{
  "cells": [
    {
      "cell_type": "markdown",
      "metadata": {
        "id": "view-in-github",
        "colab_type": "text"
      },
      "source": [
        "<a href=\"https://colab.research.google.com/github/ItamarBerger/TabularDS-part1/blob/main/DS_tabular_part1.ipynb\" target=\"_parent\"><img src=\"https://colab.research.google.com/assets/colab-badge.svg\" alt=\"Open In Colab\"/></a>"
      ]
    },
    {
      "cell_type": "markdown",
      "metadata": {
        "id": "cVBPMuhe0zJa"
      },
      "source": [
        "# An Overview of a regression assignment with the \"Avocado\" dataset\n",
        "Attempting to fit Average Price of Avocado (each row is a specific date).\n"
      ]
    },
    {
      "cell_type": "markdown",
      "metadata": {
        "id": "IZfAA6YJ0zJa"
      },
      "source": [
        "### 0. Imports"
      ]
    },
    {
      "cell_type": "code",
      "execution_count": null,
      "metadata": {
        "id": "9cgwQ6yW0zJb"
      },
      "outputs": [],
      "source": []
    },
    {
      "cell_type": "code",
      "execution_count": null,
      "metadata": {
        "id": "cr9nIyQG0zJb"
      },
      "outputs": [],
      "source": [
        "#data processing\n",
        "import pandas as pd\n",
        "import numpy as np\n",
        "\n",
        "#data visualizations\n",
        "import seaborn as sns\n",
        "import matplotlib.pyplot as plt\n",
        "%matplotlib inline\n",
        "\n",
        "#Machine learning library\n",
        "import sklearn\n",
        "\n",
        "import warnings\n",
        "warnings.filterwarnings(\"ignore\")\n"
      ]
    },
    {
      "cell_type": "markdown",
      "metadata": {
        "id": "hfESzIca0zJb"
      },
      "source": [
        "### 1. Introducing the Avocdeo-prices dataset -- Exploratory Data Analysis (EDA)\n",
        "##### The goal of this phase is to understand the different features and relations between them and w.r.t. the target feature"
      ]
    },
    {
      "cell_type": "markdown",
      "metadata": {
        "id": "BXkweutn0zJb"
      },
      "source": [
        "Loading the CSV dataset"
      ]
    },
    {
      "cell_type": "code",
      "execution_count": null,
      "metadata": {
        "id": "k6teEgTJ0zJb"
      },
      "outputs": [],
      "source": [
        "dtf = pd.read_csv('/content/data/avocado.csv')\n",
        "\n"
      ]
    },
    {
      "cell_type": "code",
      "execution_count": null,
      "metadata": {
        "id": "wM2s9HtJ0zJb"
      },
      "outputs": [],
      "source": [
        "dtf.columns = dtf.columns.str.replace(' ', '')\n"
      ]
    },
    {
      "cell_type": "code",
      "execution_count": null,
      "metadata": {
        "id": "pbplVaM-0zJb"
      },
      "outputs": [],
      "source": [
        "dtf.head()"
      ]
    },
    {
      "cell_type": "code",
      "execution_count": null,
      "metadata": {
        "id": "HA9_yu7i0zJc"
      },
      "outputs": [],
      "source": [
        "\n",
        "dtf.describe()\n"
      ]
    },
    {
      "cell_type": "markdown",
      "metadata": {
        "id": "hrPpxcgh0zJc"
      },
      "source": [
        "#### Examining the target feature - \"AveragePrice\": Using a histogram\n",
        "Our main goal at this point is to examine the highest correlations (in absolute value - also taking into account strong negative correlations) between a feature and the target col (Life Expectancy)."
      ]
    },
    {
      "cell_type": "code",
      "execution_count": null,
      "metadata": {
        "id": "7g3OL4O60zJc"
      },
      "outputs": [],
      "source": [
        "min_val_corr = 0.0\n",
        "\n",
        "df_numeric = dtf.drop(columns=dtf.select_dtypes(include=['object']).columns).drop('Date', axis=1, errors= 'ignore')\n",
        "target = 'AveragePrice'\n",
        "# skip index column\n",
        "corr_matrix = df_numeric.iloc[:, 1:].corr()\n",
        "# Create mask for upper triangle\n",
        "mask = np.triu(np.ones_like(corr_matrix, dtype=bool))\n",
        "# Plot heatmap\n",
        "sns.heatmap(corr_matrix)     # Colorbar size\n",
        "plt.title('Correlation Matrix Heatmap')\n",
        "plt.tight_layout()\n",
        "plt.show()\n",
        "\n"
      ]
    },
    {
      "cell_type": "markdown",
      "metadata": {
        "id": "M6fWrG_o0zJc"
      },
      "source": [
        "The histogram above well demonstrate that the features 'TotalVolume' and '4046', '4225', '4770' (which are different price codes for different avocados -(reference) https://loveonetoday.com/how-to/identify-hass-avocados/)\n",
        "have **high positive correlation**.\n",
        "On the other hand 'TotalVolume' has pretty strong negative correlation to the target feature  (AveragePrice)."
      ]
    },
    {
      "cell_type": "code",
      "execution_count": null,
      "metadata": {
        "id": "tYOgTOrw0zJc"
      },
      "outputs": [],
      "source": [
        "df_numeric[['AveragePrice']].hist(figsize=(10, 8), bins=50, xlabelsize=12, ylabelsize=8)\n",
        "plt.show()"
      ]
    },
    {
      "cell_type": "markdown",
      "metadata": {
        "id": "1T8byWov0zJc"
      },
      "source": [
        "##The visualization above demonstrate the following key point:\n",
        "1. It seems like the avgPrice is distributed as a **normal-like distribution**- it may become usefull in the prediction part.\n",
        "\n"
      ]
    },
    {
      "cell_type": "markdown",
      "metadata": {
        "id": "mexBqYf40zJc"
      },
      "source": [
        "### Now we'd like to take a deeper loook into the AveragePrice of avocados with respect toits type (organic/conventional)."
      ]
    },
    {
      "cell_type": "code",
      "execution_count": null,
      "metadata": {
        "id": "QP81Ychn0zJc"
      },
      "outputs": [],
      "source": [
        "fig, axes = plt.subplots(1, 2, figsize=(12, 6))\n",
        "status_counts = dtf['type'].value_counts()\n",
        "axes[0].pie(status_counts, labels=status_counts.index, autopct='%1.1f%%', startangle=90, colors=['#0fffc7','#6693ff','#99ff99'])\n",
        "sns.boxplot(x='type', y='AveragePrice', data=dtf.dropna(), ax = axes[1])\n",
        "axes[1].set_title('Boxplot of AveragePrice by type')\n",
        "dtf =  dtf.dropna()\n",
        "\n",
        "plt.tight_layout()\n",
        "\n",
        "# Show the plot\n",
        "plt.show()\n"
      ]
    },
    {
      "cell_type": "markdown",
      "metadata": {
        "id": "2rRW22Dv6Cij"
      },
      "source": [
        "So we can already notice that both avocado types appear in the dataset **roughly equally**.\n",
        "\n",
        " An interesting fact here, we see a **significant difference** in the averagePrice of organic avocados as opposed to conventional.\n",
        "  \n",
        "Moreover, it seems like there are lots of outliers samples here. especially for organic avocados and high-price conventional."
      ]
    },
    {
      "cell_type": "code",
      "execution_count": null,
      "metadata": {
        "id": "ltySTfzp0zJd"
      },
      "outputs": [],
      "source": [
        "fig, axes = plt.subplots(1,2, figsize=(25, 5))\n",
        "\n",
        "dtf.groupby(pd.cut(dtf['TotalVolume'],5))['AveragePrice'].mean().plot(kind='line',ax=axes[0])\n",
        "# Show the plot\n",
        "axes[0].set_title(\"AveragePrice with respect to Total Volume\")\n",
        "axes[1].set_title(\"AveragePrice over the years\")\n",
        "sns.regplot(data=dtf,x='year',y='AveragePrice')\n",
        "plt.tight_layout()\n",
        "# Show the plot\n",
        "plt.show()"
      ]
    },
    {
      "cell_type": "markdown",
      "metadata": {
        "id": "jzeO_KZi6y1h"
      },
      "source": [
        "Over here, we wanted to further explore the possible relationship between the averagePrice and the year of the sample and the TotalVolume of avocatos seold at this date. What can we tell based of the visualizations above?\n",
        "1. The avgPrice **increased** over the years\n",
        "2. In 2016 and 2017 we had signicantlly more samples\n",
        "3. The averagePrice is decreasing with respect to the TotalVolume -> may imply an interesting market trend (less sells means a higher price, while more sells can lead to a lower peice)"
      ]
    },
    {
      "cell_type": "code",
      "execution_count": null,
      "metadata": {
        "id": "dYA3Dy0V0zJd"
      },
      "outputs": [],
      "source": [
        "grouped = dtf.groupby(\"year\")[[\"4046\", \"4225\", \"4770\"]].sum()\n",
        "for i, (year, totals) in enumerate(grouped.iterrows()):\n",
        "    plt.figure(figsize=(7, 4))\n",
        "    plt.pie(totals, labels=totals.index, autopct='%1.1f%%', startangle=90)\n",
        "    plt.title(f'Types Distribution in {year}')\n",
        "    plt.show()"
      ]
    },
    {
      "cell_type": "markdown",
      "metadata": {
        "id": "uRxFtTlY8HJB"
      },
      "source": [
        "So we already looked into the relationship between avgPrice and the year/totalVolume. We now want to take a deeper look into what actually might change between the year. That could lead us to the cause  of the avgPrice going up as the years go by (at least so they do in our given datases).\n",
        "One way of exploring this lead, would be to take a look into what is the propotional mix of avocados types which were sold during each year. The above pie charts demonstrate some interesting facts:\n",
        "\n",
        "1. something surprising happens in 2017- prpotional part of 4046 sold, is **up by almost 10%** comparing to previous years.\n",
        "2. It semms like 4770 type \"took a dive\" in 2017.\n",
        "\n",
        "\n",
        "Maybe in the future, we could use this trend to explain other trends as well. such as the increse of price over the years as a result of the differenr prpotional mix between the avocado types sold over the years and so on.\n"
      ]
    },
    {
      "cell_type": "markdown",
      "metadata": {
        "id": "-q63jtq_0zJd"
      },
      "source": [
        "While the plot above is difficult to read, we can bin the year column then group by and view the mean price"
      ]
    },
    {
      "cell_type": "markdown",
      "metadata": {
        "id": "z3USq3BZ0zJd"
      },
      "source": [
        "### 2 - Cleaning and Preprocessing"
      ]
    },
    {
      "cell_type": "markdown",
      "metadata": {
        "id": "XRncK6rD0zJd"
      },
      "source": [
        "A. Split to Train and Test, then see the target feature distributions:"
      ]
    },
    {
      "cell_type": "code",
      "execution_count": null,
      "metadata": {
        "id": "rhuBKDVv0zJd"
      },
      "outputs": [],
      "source": [
        "from sklearn.model_selection import train_test_split\n",
        "from sklearn.preprocessing import LabelEncoder\n",
        "dtf['type'] = dtf['type'].map({'organic': 1, 'conventional': 0})\n",
        "dtf = dtf.drop(columns=['Date'])\n",
        "le = LabelEncoder()\n",
        "\n",
        "# Apply label encoding to the 'region' column\n",
        "dtf['region'] = le.fit_transform(dtf['region'])"
      ]
    },
    {
      "cell_type": "code",
      "execution_count": null,
      "metadata": {
        "id": "EeorIOna0zJd"
      },
      "outputs": [],
      "source": [
        "dtf_train, dtf_test = train_test_split(dtf,\n",
        "                      test_size=0.25)"
      ]
    },
    {
      "cell_type": "markdown",
      "metadata": {
        "id": "Xomn3vzc0zJd"
      },
      "source": [
        "Concat the one-hot attributes and drop the original"
      ]
    },
    {
      "cell_type": "code",
      "execution_count": null,
      "metadata": {
        "id": "C5Ohvkca0zJd"
      },
      "outputs": [],
      "source": [
        "from sklearn.preprocessing import OneHotEncoder\n",
        "# convert categorical feature into one-hot encoding representation\n",
        "#dummy_train = pd.get_dummies(dtf_train['type'], prefix='type')\n",
        "#dummy_test = pd.get_dummies(dtf_test['type'], prefix='type')\n",
        "# update test and train datasets with the new column of 'Status' Feature\n",
        "#dtf_train = pd.concat([dtf_train, dummy_train], axis=1).drop(columns='type')\n",
        "#dtf_test = pd.concat([dtf_test, dummy_test], axis=1).drop(columns='type')\n"
      ]
    },
    {
      "cell_type": "markdown",
      "metadata": {
        "id": "HItqSyRt0zJd"
      },
      "source": [
        "### 3. Create a Baseline Regression Model"
      ]
    },
    {
      "cell_type": "code",
      "execution_count": null,
      "metadata": {
        "id": "MS5sHo6Y0zJd"
      },
      "outputs": [],
      "source": [
        "from sklearn.linear_model import LinearRegression"
      ]
    },
    {
      "cell_type": "code",
      "execution_count": null,
      "metadata": {
        "id": "6ui5fbUL0zJd"
      },
      "outputs": [],
      "source": [
        "#separate X from y\n",
        "X_train = dtf_train.drop('AveragePrice',axis=1)\n",
        "X_test = dtf_test.drop('AveragePrice',axis=1)\n",
        "\n",
        "\n",
        "y_train = dtf_train['AveragePrice']\n",
        "y_test = dtf_test['AveragePrice']\n",
        "\n",
        "\n"
      ]
    },
    {
      "cell_type": "markdown",
      "metadata": {
        "id": "Y83KsiDJ0zJd"
      },
      "source": [
        "#### Train a linear regression model"
      ]
    },
    {
      "cell_type": "code",
      "execution_count": null,
      "metadata": {
        "id": "45LZhMTH0zJe"
      },
      "outputs": [],
      "source": [
        "import xgboost as xgb\n",
        "model = xgb.XGBRegressor()"
      ]
    },
    {
      "cell_type": "code",
      "execution_count": null,
      "metadata": {
        "id": "R1o618eo0zJe"
      },
      "outputs": [],
      "source": [
        "prediction = model.fit(X_train,y_train).predict(X_test)"
      ]
    },
    {
      "cell_type": "markdown",
      "metadata": {
        "id": "OxU56tPE0zJe"
      },
      "source": [
        "### 4. Evaluate how good is the model"
      ]
    },
    {
      "cell_type": "markdown",
      "metadata": {
        "id": "M7eeon7E0zJe"
      },
      "source": [
        "Many metrics exist for evaluating the regression over the test data.\n"
      ]
    },
    {
      "cell_type": "code",
      "execution_count": null,
      "metadata": {
        "id": "zNEwCxNW0zJe"
      },
      "outputs": [],
      "source": [
        "from sklearn.metrics import r2_score,mean_squared_error ,mean_absolute_error"
      ]
    },
    {
      "cell_type": "markdown",
      "metadata": {
        "id": "MhEILqcQ0zJe"
      },
      "source": [
        "Let's start with r^2: R Squared is the squared sum of differences from the actual values and the predicted values, divided by the squared differences from the mean (i.e var*n)"
      ]
    },
    {
      "cell_type": "code",
      "execution_count": null,
      "metadata": {
        "id": "kBfk2tBQ0zJe"
      },
      "outputs": [],
      "source": [
        "r2_score(y_test, prediction)"
      ]
    },
    {
      "cell_type": "markdown",
      "metadata": {
        "id": "nLwOtyxB0zJe"
      },
      "source": [
        "<br> So we already have a pretty good r2 score.\n",
        "<br>\n",
        "Let's see more metrics:"
      ]
    },
    {
      "cell_type": "code",
      "execution_count": null,
      "metadata": {
        "id": "JbCcv9OI0zJe"
      },
      "outputs": [],
      "source": [
        "print(\"Mean Absolute Error (Σ|y - pred|/n):\", \"{:,.3f}\".format(mean_absolute_error(y_test, prediction)))\n",
        "print(\"Root Mean Squared Error (sqrt(Σ(y - pred)^2/n)):\", \"{:,.3f}\".format(np.sqrt(mean_squared_error(y_test, prediction))))\n",
        "\n",
        "## residuals\n",
        "residuals = y_test - prediction\n",
        "max_error = residuals.abs().max()\n",
        "max_idx = residuals[residuals==max_error]\n",
        "#max_true, max_pred = y_test.loc[max_idx], prediction[max_idx]\n",
        "print(\"Max Error:\", \"{:,.3f}\".format(max_error))"
      ]
    },
    {
      "cell_type": "markdown",
      "metadata": {
        "id": "7BBNzcVg0zJf"
      },
      "source": [
        "We now plot the true values against the predicted values.\n",
        "<br> In the regression line, the predicted values are always on the function y=x"
      ]
    },
    {
      "cell_type": "code",
      "execution_count": null,
      "metadata": {
        "id": "_EezPD7S0zJf"
      },
      "outputs": [],
      "source": [
        "fig, ax = plt.subplots(figsize=(8,5))\n",
        "sns.scatterplot(x = prediction,y = y_test,ax=ax,color='blue')\n",
        "sns.lineplot(x = prediction,y = prediction,ax=ax,color='black')\n",
        "plt.title(\"model's test prediction\")\n",
        "plt.show()"
      ]
    },
    {
      "cell_type": "markdown",
      "metadata": {
        "id": "R_QoL7jk0zJf"
      },
      "source": [
        "###Let's take a close look at the resuduals:"
      ]
    },
    {
      "cell_type": "code",
      "execution_count": null,
      "metadata": {
        "id": "Q1DIs6oU0zJf"
      },
      "outputs": [],
      "source": [
        "fig, ax = plt.subplots(1,2,figsize=(16,5))\n",
        "sns.scatterplot(x=prediction,y=residuals,ax=ax[0])\n",
        "sns.lineplot(x=prediction,y=0,ax=ax[0],color='black')\n",
        "ax[0].set_title(\"Residuals (Abs)\")\n",
        "sns.scatterplot(x=prediction,y=residuals/y_test,ax=ax[1])\n",
        "sns.lineplot(x=prediction,y=0,ax=ax[1],color='black')\n",
        "ax[1].set_title(\"Residuals (%)\")\n",
        "plt.show()"
      ]
    },
    {
      "cell_type": "markdown",
      "metadata": {
        "id": "QyVbksKx0zJf"
      },
      "source": [
        "Now we can see that the model tends to underestimate f. Specifically  it probably **performs worst** on items with avgPrice of range 0.7-1.8."
      ]
    },
    {
      "cell_type": "markdown",
      "metadata": {
        "id": "umpm1GFg0zJf"
      },
      "source": [
        "#Let's examine explanations for the model's in-accurcacy and specifically its tendency to underestimate#"
      ]
    },
    {
      "cell_type": "code",
      "execution_count": null,
      "metadata": {
        "id": "Pe_0vBox0zJf"
      },
      "outputs": [],
      "source": [
        "# Plotting feature importance\n",
        "plt.figure(figsize=(10, 6))\n",
        "xgb.plot_importance(model, importance_type='weight', max_num_features=10, height=0.8)\n",
        "plt.title('Feature Importance')\n",
        "plt.show()"
      ]
    },
    {
      "cell_type": "markdown",
      "source": [
        "###IMPORTANT NOTE\n",
        "We see high importance of the \"Unnamed\" feature which is the date feature. On this part we ignore this feature. Later on, on future assignments, we would pay a closer attention specifically to this feature (non-numeric and non-caterorical feature)."
      ],
      "metadata": {
        "id": "vds7U3tnEYzU"
      }
    },
    {
      "cell_type": "markdown",
      "metadata": {
        "id": "nlyG4xx10zJf"
      },
      "source": [
        "### 4. Model Explainability"
      ]
    },
    {
      "cell_type": "markdown",
      "metadata": {
        "id": "xZAOEWvj0zJg"
      },
      "source": [
        "We use SHAP to understand the affect of each feature over our model"
      ]
    },
    {
      "cell_type": "code",
      "execution_count": null,
      "metadata": {
        "id": "W5OPLoK70zJg"
      },
      "outputs": [],
      "source": [
        "import shap"
      ]
    },
    {
      "cell_type": "code",
      "execution_count": null,
      "metadata": {
        "id": "UggWvnrZ0zJg"
      },
      "outputs": [],
      "source": [
        "shap_sample = X_train.sample(500)"
      ]
    },
    {
      "cell_type": "code",
      "execution_count": 103,
      "metadata": {
        "colab": {
          "base_uri": "https://localhost:8080/"
        },
        "id": "Rs2duzXd0zJg",
        "outputId": "6dd3631c-a7ba-484d-87f1-d1b3826808f9"
      },
      "outputs": [
        {
          "output_type": "stream",
          "name": "stderr",
          "text": [
            "PermutationExplainer explainer: 501it [01:56,  3.93it/s]\n"
          ]
        }
      ],
      "source": [
        "explainer = shap.Explainer(model.predict, shap_sample)\n",
        "shap_values = explainer(shap_sample)"
      ]
    },
    {
      "cell_type": "code",
      "execution_count": 104,
      "metadata": {
        "colab": {
          "base_uri": "https://localhost:8080/"
        },
        "id": "F7_uL8WS0zJg",
        "outputId": "efb3b612-3fc5-4326-a6bf-6556d73f9650"
      },
      "outputs": [
        {
          "output_type": "execute_result",
          "data": {
            "text/plain": [
              "Index(['Unnamed:0', 'AveragePrice', 'TotalVolume', '4046', '4225', '4770',\n",
              "       'TotalBags', 'SmallBags', 'LargeBags', 'XLargeBags', 'type', 'year',\n",
              "       'region'],\n",
              "      dtype='object')"
            ]
          },
          "metadata": {},
          "execution_count": 104
        }
      ],
      "source": [
        "dtf.columns"
      ]
    },
    {
      "cell_type": "code",
      "execution_count": 105,
      "metadata": {
        "colab": {
          "base_uri": "https://localhost:8080/",
          "height": 514
        },
        "id": "LLHrud8O0zJg",
        "outputId": "67e4b921-73b6-4ae4-c0b7-24c59febcb7d"
      },
      "outputs": [
        {
          "output_type": "display_data",
          "data": {
            "text/plain": [
              "<Figure size 800x550 with 2 Axes>"
            ],
            "image/png": "[encoded data removed]"
          },
          "metadata": {}
        }
      ],
      "source": [
        "shap.plots.beeswarm(shap_values)"
      ]
    },
    {
      "cell_type": "markdown",
      "metadata": {
        "id": "b75nHHS30zJg"
      },
      "source": [
        "Remember that we can also do that to explain the prediction of a single element:"
      ]
    },
    {
      "cell_type": "code",
      "execution_count": null,
      "metadata": {
        "colab": {
          "base_uri": "https://localhost:8080/"
        },
        "id": "LLta2ceA0zJg",
        "outputId": "bdc4fb50-f643-4f5a-95eb-20a4880babf0"
      },
      "outputs": [
        {
          "output_type": "stream",
          "name": "stderr",
          "text": [
            "PermutationExplainer explainer:  39%|███▉      | 1802/4563 [07:00<08:59,  5.12it/s]"
          ]
        }
      ],
      "source": [
        "test_shap_values = explainer(X_test)"
      ]
    },
    {
      "cell_type": "code",
      "execution_count": null,
      "metadata": {
        "id": "AcWOfIZP85x8"
      },
      "outputs": [],
      "source": []
    },
    {
      "cell_type": "markdown",
      "metadata": {
        "id": "uie9HSnt0zJg"
      },
      "source": [
        "What was our biggest relative error?"
      ]
    },
    {
      "cell_type": "code",
      "execution_count": null,
      "metadata": {
        "id": "MkmuL9Op0zJh"
      },
      "outputs": [],
      "source": [
        "rel_res=residuals/y_test\n",
        "rel_res=rel_res.abs()"
      ]
    },
    {
      "cell_type": "markdown",
      "source": [
        "Now, we want to explore where does the model performs the **worst**, and why.  \n",
        "Our initial attempt (inpired by the visualizations of section 2) is to examine the relation between the prediction error and the avocados type (Organic/Conventional)."
      ],
      "metadata": {
        "id": "xFUHWsaoFxlg"
      }
    },
    {
      "cell_type": "code",
      "execution_count": null,
      "metadata": {
        "id": "dKV7m7Ol0zJh"
      },
      "outputs": [],
      "source": [
        "X_organic = dtf_test[dtf_test['type'] == 1].drop('AveragePrice',axis=1)\n",
        "X_conventional = dtf_test[dtf_test['type'] == 0].drop('AveragePrice',axis=1)\n",
        "y_organic = dtf_test[dtf_test['type'] == 1]['AveragePrice']\n",
        "y_conventional = dtf_test[dtf_test['type'] == 0]['AveragePrice']\n",
        "\n",
        "\n",
        "\n",
        "organic_prediction = model.predict(X_organic)\n",
        "conventional_prediction = model.predict(X_conventional)\n",
        "\n",
        "residuals_organic = y_organic-organic_prediction\n",
        "residuals_conventional = y_conventional-conventional_prediction\n",
        "\n",
        "\n",
        "\n",
        "fig, ax = plt.subplots(2, 2, figsize=(16, 10))\n",
        "sns.scatterplot(x= organic_prediction,y= residuals_organic,ax=ax[0][0],color = 'darkgreen')\n",
        "sns.lineplot(x=organic_prediction,y=np.zeros_like(organic_prediction),ax=ax[0][0],color='black')\n",
        "ax[0][0].set_title(\"Organic Residuals (Abs)\")\n",
        "sns.scatterplot(x=organic_prediction,y=residuals_organic/y_organic,ax=ax[0][1], color = 'darkgreen')\n",
        "sns.lineplot(x=organic_prediction,y=np.zeros_like(organic_prediction),ax=ax[0][1],color='black')\n",
        "ax[0][1].set_title(\"Organic Residuals (%)\")\n",
        "\n",
        "\n",
        "\n",
        "sns.scatterplot(x= conventional_prediction,y= residuals_conventional,ax=ax[1][0], color='green')\n",
        "sns.lineplot(x=conventional_prediction,y=np.zeros_like(conventional_prediction),ax=ax[1][0],color='black')\n",
        "ax[1][0].set_title(\"Conventional Residuals (Abs)\")\n",
        "sns.scatterplot(x=conventional_prediction,y= residuals_conventional/y_conventional,ax=ax[1][1], color='green')\n",
        "sns.lineplot(x=conventional_prediction,y=np.zeros_like(conventional_prediction),ax=ax[1][1],color='black')\n",
        "ax[1][1].set_title(\"Conventional Residuals (%)\")\n",
        "plt.show()\n",
        "\n",
        "\n",
        "\n"
      ]
    },
    {
      "cell_type": "markdown",
      "metadata": {
        "id": "dDDsCJSz-Nha"
      },
      "source": [
        "# What can we actually infer from the comparison above?\n",
        "1. The model's tendency to underestiate is present **for both** avocado types.\n",
        "2. It seems that the variance of the residuals for organic avocado is significanly higher than when predicting avgPrice for conventional avocados\n",
        "3. The model actually **performs worst** for organic avocados. That might be as a result of the **outliers** we visualized on section 2."
      ]
    },
    {
      "cell_type": "markdown",
      "metadata": {
        "id": "u4RrT25w0zJh"
      },
      "source": [
        "Let's look at this problematic point:"
      ]
    },
    {
      "cell_type": "code",
      "execution_count": null,
      "metadata": {
        "id": "VW__Y2Mp0zJi"
      },
      "outputs": [],
      "source": [
        "max_id = rel_res[rel_res==rel_res.max()].index[0]\n",
        "pred_series=pd.Series(prediction,index=rel_res.index)\n",
        "pred_series[max_id]\n",
        "\n",
        "max_ordinal_id= X_test.index.get_loc(max_id)\n",
        "shap.plots.waterfall(test_shap_values[max_ordinal_id])"
      ]
    },
    {
      "cell_type": "code",
      "execution_count": null,
      "metadata": {
        "id": "AgFtYQYE0zJi"
      },
      "outputs": [],
      "source": [
        "len(residuals[residuals > 0.2])"
      ]
    },
    {
      "cell_type": "code",
      "execution_count": null,
      "metadata": {
        "id": "e_YGJ0Vb0zJi"
      },
      "outputs": [],
      "source": [
        "bad_examples = X_test.loc[residuals[residuals>0.2].index]\n",
        "bad_examples_shap_values = explainer(bad_examples)\n",
        "shap.plots.beeswarm(bad_examples_shap_values)"
      ]
    },
    {
      "cell_type": "markdown",
      "metadata": {
        "id": "M2m9_VUv0zJi"
      },
      "source": [
        "To get even a deeper understanding regarding our model's mistakes, we can compare the distributions of our mistakes to good predictions"
      ]
    },
    {
      "cell_type": "code",
      "execution_count": null,
      "metadata": {
        "id": "Hv-y1Zj20zJi"
      },
      "outputs": [],
      "source": [
        "bad_estimates = X_test.loc[residuals[residuals>0.2].index]"
      ]
    },
    {
      "cell_type": "code",
      "execution_count": null,
      "metadata": {
        "id": "cjTFV3gt0zJi"
      },
      "outputs": [],
      "source": [
        "good_estimates = X_test.loc[rel_res[rel_res<0.04].index]"
      ]
    },
    {
      "cell_type": "code",
      "execution_count": null,
      "metadata": {
        "id": "YISygTrl0zJi"
      },
      "outputs": [],
      "source": [
        "# plot histograms for good and under estimates\n",
        "fig, ax = plt.subplots()\n",
        "good_estimates.year.hist(ax=ax, color='blue', alpha=0.7, label='Good Estimates')\n",
        "bad_estimates.year.hist(ax=ax, color='red', alpha=0.7, label='Bad Estimates')\n",
        "\n",
        "# add a legend\n",
        "ax.legend()\n",
        "\n",
        "# set x-axis label\n",
        "ax.set_xlabel(\"Year\", fontsize=12)\n",
        "\n",
        "# add a title\n",
        "ax.set_title(\"Estimates Distribution by Year\", fontsize=14)\n",
        "\n",
        "plt.show()"
      ]
    },
    {
      "cell_type": "markdown",
      "metadata": {
        "id": "NZohjZ2r0zJi"
      },
      "source": [
        "We can see that our overestimas contains \"larger\" apartments.\n",
        "<br> While the model correctly understood that larger apartments are often more expensive, this is not always correct!"
      ]
    },
    {
      "cell_type": "code",
      "execution_count": null,
      "metadata": {
        "id": "ehNGpUDF0zJj"
      },
      "outputs": [],
      "source": [
        "len(good_estimates)"
      ]
    },
    {
      "cell_type": "code",
      "execution_count": null,
      "metadata": {
        "id": "OX3fFlmz0zJj"
      },
      "outputs": [],
      "source": [
        "len(bad_estimates)"
      ]
    },
    {
      "cell_type": "code",
      "execution_count": null,
      "metadata": {
        "id": "x9VXzcb-0zJj"
      },
      "outputs": [],
      "source": []
    },
    {
      "cell_type": "markdown",
      "source": [
        "##Sources:\n",
        "aocado's size : https://loveonetoday.com/how-to/identify-hass-avocados/\n",
        "\n",
        "dataset patterns - https://www.kaggle.com/code/janiobachmann/price-of-avocados-pattern-recognition-analysis\n",
        "\n",
        "conventional VS organic avocados - https://www.kaggle.com/code/hely333/explore-avocados-from-all-sides\n"
      ],
      "metadata": {
        "id": "sucVDE7TL21C"
      }
    }
  ],
  "metadata": {
    "accelerator": "GPU",
    "colab": {
      "gpuType": "T4",
      "provenance": [],
      "include_colab_link": true
    },
    "kaggle": {
      "accelerator": "gpu",
      "dataSources": [
        {
          "datasetId": 6111586,
          "sourceId": 9940353,
          "sourceType": "datasetVersion"
        }
      ],
      "dockerImageVersionId": 11543,
      "isGpuEnabled": true,
      "isInternetEnabled": false,
      "language": "python",
      "sourceType": "notebook"
    },
    "kernelspec": {
      "display_name": "Python 3",
      "name": "python3"
    },
    "language_info": {
      "codemirror_mode": {
        "name": "ipython",
        "version": 3
      },
      "file_extension": ".py",
      "mimetype": "text/x-python",
      "name": "python",
      "nbconvert_exporter": "python",
      "pygments_lexer": "ipython3",
      "version": "3.6.6"
    }
  },
  "nbformat": 4,
  "nbformat_minor": 0
}