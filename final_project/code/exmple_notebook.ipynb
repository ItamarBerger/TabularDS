{
  "cells": [
    {
      "cell_type": "markdown",
      "metadata": {
        "id": "fX_NCznlNHye"
      },
      "source": [
        "# preprocessing"
      ]
    },
    {
      "cell_type": "code",
      "source": [
        "!rm -rf TabularDS  # Remove the existing directory\n",
        "!git clone https://github.com/ItamarBerger/TabularDS\n"
      ],
      "metadata": {
        "colab": {
          "base_uri": "https://localhost:8080/"
        },
        "id": "pi_KucCvRDGx",
        "outputId": "5705ad50-7dc3-4b85-de28-52eca15fcf02"
      },
      "execution_count": 63,
      "outputs": [
        {
          "output_type": "stream",
          "name": "stdout",
          "text": [
            "Cloning into 'TabularDS'...\n",
            "remote: Enumerating objects: 376, done.\u001b[K\n",
            "remote: Counting objects: 100% (215/215), done.\u001b[K\n",
            "remote: Compressing objects: 100% (169/169), done.\u001b[K\n",
            "remote: Total 376 (delta 104), reused 34 (delta 4), pack-reused 161 (from 1)\u001b[K\n",
            "Receiving objects: 100% (376/376), 23.14 MiB | 25.05 MiB/s, done.\n",
            "Resolving deltas: 100% (164/164), done.\n",
            "Updating files: 100% (16/16), done.\n"
          ]
        }
      ]
    },
    {
      "cell_type": "code",
      "source": [
        "# load dataset\n",
        "import pandas as pd\n",
        "data = pd.read_csv('/content/TabularDS/final_project/code/data/rating.csv')\n",
        "# data = retails.copy()"
      ],
      "metadata": {
        "id": "dZwX40EVPMdy"
      },
      "execution_count": 64,
      "outputs": []
    },
    {
      "cell_type": "code",
      "source": [
        "# retails.head()\n",
        "# print(len(retails))\n",
        "df = data\n",
        "data.head()"
      ],
      "metadata": {
        "id": "zVGaG2KbQL92",
        "colab": {
          "base_uri": "https://localhost:8080/",
          "height": 206
        },
        "outputId": "f7661990-1441-4498-caa7-dd279b1dae08"
      },
      "execution_count": 24,
      "outputs": [
        {
          "output_type": "execute_result",
          "data": {
            "text/plain": [
              "   userId  movieId  rating            timestamp\n",
              "0  122270     8360     3.5  2012-04-22 01:07:04\n",
              "1   49018       32     2.0  2001-09-11 07:50:36\n",
              "2   89527   109374     3.5  2015-01-06 09:26:40\n",
              "3  106704     1060     3.0  2000-01-22 21:27:57\n",
              "4   47791     1732     2.0  2006-01-19 15:48:23"
            ],
            "text/html": [
              "\n",
              "  <div id=\"df-90cea935-4f0b-49fa-8a17-9b88eaa062b0\" class=\"colab-df-container\">\n",
              "    <div>\n",
              "<style scoped>\n",
              "    .dataframe tbody tr th:only-of-type {\n",
              "        vertical-align: middle;\n",
              "    }\n",
              "\n",
              "    .dataframe tbody tr th {\n",
              "        vertical-align: top;\n",
              "    }\n",
              "\n",
              "    .dataframe thead th {\n",
              "        text-align: right;\n",
              "    }\n",
              "</style>\n",
              "<table border=\"1\" class=\"dataframe\">\n",
              "  <thead>\n",
              "    <tr style=\"text-align: right;\">\n",
              "      <th></th>\n",
              "      <th>userId</th>\n",
              "      <th>movieId</th>\n",
              "      <th>rating</th>\n",
              "      <th>timestamp</th>\n",
              "    </tr>\n",
              "  </thead>\n",
              "  <tbody>\n",
              "    <tr>\n",
              "      <th>0</th>\n",
              "      <td>122270</td>\n",
              "      <td>8360</td>\n",
              "      <td>3.5</td>\n",
              "      <td>2012-04-22 01:07:04</td>\n",
              "    </tr>\n",
              "    <tr>\n",
              "      <th>1</th>\n",
              "      <td>49018</td>\n",
              "      <td>32</td>\n",
              "      <td>2.0</td>\n",
              "      <td>2001-09-11 07:50:36</td>\n",
              "    </tr>\n",
              "    <tr>\n",
              "      <th>2</th>\n",
              "      <td>89527</td>\n",
              "      <td>109374</td>\n",
              "      <td>3.5</td>\n",
              "      <td>2015-01-06 09:26:40</td>\n",
              "    </tr>\n",
              "    <tr>\n",
              "      <th>3</th>\n",
              "      <td>106704</td>\n",
              "      <td>1060</td>\n",
              "      <td>3.0</td>\n",
              "      <td>2000-01-22 21:27:57</td>\n",
              "    </tr>\n",
              "    <tr>\n",
              "      <th>4</th>\n",
              "      <td>47791</td>\n",
              "      <td>1732</td>\n",
              "      <td>2.0</td>\n",
              "      <td>2006-01-19 15:48:23</td>\n",
              "    </tr>\n",
              "  </tbody>\n",
              "</table>\n",
              "</div>\n",
              "    <div class=\"colab-df-buttons\">\n",
              "\n",
              "  <div class=\"colab-df-container\">\n",
              "    <button class=\"colab-df-convert\" onclick=\"convertToInteractive('df-90cea935-4f0b-49fa-8a17-9b88eaa062b0')\"\n",
              "            title=\"Convert this dataframe to an interactive table.\"\n",
              "            style=\"display:none;\">\n",
              "\n",
              "  <svg xmlns=\"http://www.w3.org/2000/svg\" height=\"24px\" viewBox=\"0 -960 960 960\">\n",
              "    <path d=\"M120-120v-720h720v720H120Zm60-500h600v-160H180v160Zm220 220h160v-160H400v160Zm0 220h160v-160H400v160ZM180-400h160v-160H180v160Zm440 0h160v-160H620v160ZM180-180h160v-160H180v160Zm440 0h160v-160H620v160Z\"/>\n",
              "  </svg>\n",
              "    </button>\n",
              "\n",
              "  <style>\n",
              "    .colab-df-container {\n",
              "      display:flex;\n",
              "      gap: 12px;\n",
              "    }\n",
              "\n",
              "    .colab-df-convert {\n",
              "      background-color: #E8F0FE;\n",
              "      border: none;\n",
              "      border-radius: 50%;\n",
              "      cursor: pointer;\n",
              "      display: none;\n",
              "      fill: #1967D2;\n",
              "      height: 32px;\n",
              "      padding: 0 0 0 0;\n",
              "      width: 32px;\n",
              "    }\n",
              "\n",
              "    .colab-df-convert:hover {\n",
              "      background-color: #E2EBFA;\n",
              "      box-shadow: 0px 1px 2px rgba(60, 64, 67, 0.3), 0px 1px 3px 1px rgba(60, 64, 67, 0.15);\n",
              "      fill: #174EA6;\n",
              "    }\n",
              "\n",
              "    .colab-df-buttons div {\n",
              "      margin-bottom: 4px;\n",
              "    }\n",
              "\n",
              "    [theme=dark] .colab-df-convert {\n",
              "      background-color: #3B4455;\n",
              "      fill: #D2E3FC;\n",
              "    }\n",
              "\n",
              "    [theme=dark] .colab-df-convert:hover {\n",
              "      background-color: #434B5C;\n",
              "      box-shadow: 0px 1px 3px 1px rgba(0, 0, 0, 0.15);\n",
              "      filter: drop-shadow(0px 1px 2px rgba(0, 0, 0, 0.3));\n",
              "      fill: #FFFFFF;\n",
              "    }\n",
              "  </style>\n",
              "\n",
              "    <script>\n",
              "      const buttonEl =\n",
              "        document.querySelector('#df-90cea935-4f0b-49fa-8a17-9b88eaa062b0 button.colab-df-convert');\n",
              "      buttonEl.style.display =\n",
              "        google.colab.kernel.accessAllowed ? 'block' : 'none';\n",
              "\n",
              "      async function convertToInteractive(key) {\n",
              "        const element = document.querySelector('#df-90cea935-4f0b-49fa-8a17-9b88eaa062b0');\n",
              "        const dataTable =\n",
              "          await google.colab.kernel.invokeFunction('convertToInteractive',\n",
              "                                                    [key], {});\n",
              "        if (!dataTable) return;\n",
              "\n",
              "        const docLinkHtml = 'Like what you see? Visit the ' +\n",
              "          '<a target=\"_blank\" href=https://colab.research.google.com/notebooks/data_table.ipynb>data table notebook</a>'\n",
              "          + ' to learn more about interactive tables.';\n",
              "        element.innerHTML = '';\n",
              "        dataTable['output_type'] = 'display_data';\n",
              "        await google.colab.output.renderOutput(dataTable, element);\n",
              "        const docLink = document.createElement('div');\n",
              "        docLink.innerHTML = docLinkHtml;\n",
              "        element.appendChild(docLink);\n",
              "      }\n",
              "    </script>\n",
              "  </div>\n",
              "\n",
              "\n",
              "<div id=\"df-99718739-8a0f-446f-b3fd-d77548ada89f\">\n",
              "  <button class=\"colab-df-quickchart\" onclick=\"quickchart('df-99718739-8a0f-446f-b3fd-d77548ada89f')\"\n",
              "            title=\"Suggest charts\"\n",
              "            style=\"display:none;\">\n",
              "\n",
              "<svg xmlns=\"http://www.w3.org/2000/svg\" height=\"24px\"viewBox=\"0 0 24 24\"\n",
              "     width=\"24px\">\n",
              "    <g>\n",
              "        <path d=\"M19 3H5c-1.1 0-2 .9-2 2v14c0 1.1.9 2 2 2h14c1.1 0 2-.9 2-2V5c0-1.1-.9-2-2-2zM9 17H7v-7h2v7zm4 0h-2V7h2v10zm4 0h-2v-4h2v4z\"/>\n",
              "    </g>\n",
              "</svg>\n",
              "  </button>\n",
              "\n",
              "<style>\n",
              "  .colab-df-quickchart {\n",
              "      --bg-color: #E8F0FE;\n",
              "      --fill-color: #1967D2;\n",
              "      --hover-bg-color: #E2EBFA;\n",
              "      --hover-fill-color: #174EA6;\n",
              "      --disabled-fill-color: #AAA;\n",
              "      --disabled-bg-color: #DDD;\n",
              "  }\n",
              "\n",
              "  [theme=dark] .colab-df-quickchart {\n",
              "      --bg-color: #3B4455;\n",
              "      --fill-color: #D2E3FC;\n",
              "      --hover-bg-color: #434B5C;\n",
              "      --hover-fill-color: #FFFFFF;\n",
              "      --disabled-bg-color: #3B4455;\n",
              "      --disabled-fill-color: #666;\n",
              "  }\n",
              "\n",
              "  .colab-df-quickchart {\n",
              "    background-color: var(--bg-color);\n",
              "    border: none;\n",
              "    border-radius: 50%;\n",
              "    cursor: pointer;\n",
              "    display: none;\n",
              "    fill: var(--fill-color);\n",
              "    height: 32px;\n",
              "    padding: 0;\n",
              "    width: 32px;\n",
              "  }\n",
              "\n",
              "  .colab-df-quickchart:hover {\n",
              "    background-color: var(--hover-bg-color);\n",
              "    box-shadow: 0 1px 2px rgba(60, 64, 67, 0.3), 0 1px 3px 1px rgba(60, 64, 67, 0.15);\n",
              "    fill: var(--button-hover-fill-color);\n",
              "  }\n",
              "\n",
              "  .colab-df-quickchart-complete:disabled,\n",
              "  .colab-df-quickchart-complete:disabled:hover {\n",
              "    background-color: var(--disabled-bg-color);\n",
              "    fill: var(--disabled-fill-color);\n",
              "    box-shadow: none;\n",
              "  }\n",
              "\n",
              "  .colab-df-spinner {\n",
              "    border: 2px solid var(--fill-color);\n",
              "    border-color: transparent;\n",
              "    border-bottom-color: var(--fill-color);\n",
              "    animation:\n",
              "      spin 1s steps(1) infinite;\n",
              "  }\n",
              "\n",
              "  @keyframes spin {\n",
              "    0% {\n",
              "      border-color: transparent;\n",
              "      border-bottom-color: var(--fill-color);\n",
              "      border-left-color: var(--fill-color);\n",
              "    }\n",
              "    20% {\n",
              "      border-color: transparent;\n",
              "      border-left-color: var(--fill-color);\n",
              "      border-top-color: var(--fill-color);\n",
              "    }\n",
              "    30% {\n",
              "      border-color: transparent;\n",
              "      border-left-color: var(--fill-color);\n",
              "      border-top-color: var(--fill-color);\n",
              "      border-right-color: var(--fill-color);\n",
              "    }\n",
              "    40% {\n",
              "      border-color: transparent;\n",
              "      border-right-color: var(--fill-color);\n",
              "      border-top-color: var(--fill-color);\n",
              "    }\n",
              "    60% {\n",
              "      border-color: transparent;\n",
              "      border-right-color: var(--fill-color);\n",
              "    }\n",
              "    80% {\n",
              "      border-color: transparent;\n",
              "      border-right-color: var(--fill-color);\n",
              "      border-bottom-color: var(--fill-color);\n",
              "    }\n",
              "    90% {\n",
              "      border-color: transparent;\n",
              "      border-bottom-color: var(--fill-color);\n",
              "    }\n",
              "  }\n",
              "</style>\n",
              "\n",
              "  <script>\n",
              "    async function quickchart(key) {\n",
              "      const quickchartButtonEl =\n",
              "        document.querySelector('#' + key + ' button');\n",
              "      quickchartButtonEl.disabled = true;  // To prevent multiple clicks.\n",
              "      quickchartButtonEl.classList.add('colab-df-spinner');\n",
              "      try {\n",
              "        const charts = await google.colab.kernel.invokeFunction(\n",
              "            'suggestCharts', [key], {});\n",
              "      } catch (error) {\n",
              "        console.error('Error during call to suggestCharts:', error);\n",
              "      }\n",
              "      quickchartButtonEl.classList.remove('colab-df-spinner');\n",
              "      quickchartButtonEl.classList.add('colab-df-quickchart-complete');\n",
              "    }\n",
              "    (() => {\n",
              "      let quickchartButtonEl =\n",
              "        document.querySelector('#df-99718739-8a0f-446f-b3fd-d77548ada89f button');\n",
              "      quickchartButtonEl.style.display =\n",
              "        google.colab.kernel.accessAllowed ? 'block' : 'none';\n",
              "    })();\n",
              "  </script>\n",
              "</div>\n",
              "\n",
              "    </div>\n",
              "  </div>\n"
            ],
            "application/vnd.google.colaboratory.intrinsic+json": {
              "type": "dataframe",
              "variable_name": "data",
              "summary": "{\n  \"name\": \"data\",\n  \"rows\": 50000,\n  \"fields\": [\n    {\n      \"column\": \"userId\",\n      \"properties\": {\n        \"dtype\": \"number\",\n        \"std\": 40100,\n        \"min\": 7,\n        \"max\": 138487,\n        \"num_unique_values\": 33226,\n        \"samples\": [\n          132512,\n          96353,\n          27425\n        ],\n        \"semantic_type\": \"\",\n        \"description\": \"\"\n      }\n    },\n    {\n      \"column\": \"movieId\",\n      \"properties\": {\n        \"dtype\": \"number\",\n        \"std\": 19923,\n        \"min\": 1,\n        \"max\": 130512,\n        \"num_unique_values\": 6730,\n        \"samples\": [\n          7116,\n          253,\n          43014\n        ],\n        \"semantic_type\": \"\",\n        \"description\": \"\"\n      }\n    },\n    {\n      \"column\": \"rating\",\n      \"properties\": {\n        \"dtype\": \"number\",\n        \"std\": 1.0488140175058116,\n        \"min\": 0.5,\n        \"max\": 5.0,\n        \"num_unique_values\": 10,\n        \"samples\": [\n          0.5,\n          2.0,\n          4.0\n        ],\n        \"semantic_type\": \"\",\n        \"description\": \"\"\n      }\n    },\n    {\n      \"column\": \"timestamp\",\n      \"properties\": {\n        \"dtype\": \"object\",\n        \"num_unique_values\": 49939,\n        \"samples\": [\n          \"1997-10-27 23:36:01\",\n          \"2007-10-24 14:07:00\",\n          \"2004-05-12 07:41:17\"\n        ],\n        \"semantic_type\": \"\",\n        \"description\": \"\"\n      }\n    }\n  ]\n}"
            }
          },
          "metadata": {},
          "execution_count": 24
        }
      ]
    },
    {
      "cell_type": "code",
      "source": [
        "movie_popularity = data.groupby('movieId')['userId'].nunique().sort_values(ascending=False)\n",
        "\n",
        "\n",
        "\n",
        "print(len(movie_popularity))\n",
        "# Select the top 10% most popular movies\n",
        "top_10_percent_count = int(0.1 * len(movie_popularity))\n",
        "top_movies = movie_popularity.head(top_10_percent_count).index.tolist()\n",
        "\n",
        "# Filter dataset to only include these movies\n",
        "filtered_df = data[data['movieId'].isin(top_movies)]\n",
        "\n",
        "\n",
        "user_movie_matrix = filtered_df.pivot_table(index='userId', columns='movieId', values='rating', aggfunc='count').fillna(0)\n",
        "user_movie_matrix = user_movie_matrix.map(lambda x: 1 if x > 0 else 0)  # Convert to binary\n",
        "\n",
        "\n",
        "print(user_movie_matrix.shape)\n",
        "\n"
      ],
      "metadata": {
        "colab": {
          "base_uri": "https://localhost:8080/"
        },
        "id": "FSAMLMJX56S9",
        "outputId": "56560ab6-310a-4465-fcaf-a62b4b3f6679"
      },
      "execution_count": 66,
      "outputs": [
        {
          "output_type": "stream",
          "name": "stdout",
          "text": [
            "6730\n",
            "(22524, 673)\n"
          ]
        }
      ]
    },
    {
      "cell_type": "code",
      "source": [
        "\n"
      ],
      "metadata": {
        "colab": {
          "base_uri": "https://localhost:8080/"
        },
        "id": "7IEaTH5xAwrM",
        "outputId": "01958652-6a9a-4cc0-b43f-123e502095cf"
      },
      "execution_count": 51,
      "outputs": [
        {
          "output_type": "stream",
          "name": "stdout",
          "text": [
            "Number of ones in the user_movie_matrix: 111408\n"
          ]
        }
      ]
    },
    {
      "cell_type": "code",
      "source": [
        "from sklearn.cluster import KMeans\n",
        "\n",
        "num_clusters = 40\n",
        "kmeans = KMeans(n_clusters=num_clusters, random_state=42)\n",
        "user_clusters = kmeans.fit_predict(user_movie_matrix)\n",
        "\n",
        "# Add cluster labels to the user-movie matrix\n",
        "user_movie_matrix['Cluster'] = user_clusters\n",
        "\n",
        "print(user_movie_matrix.head())\n"
      ],
      "metadata": {
        "colab": {
          "base_uri": "https://localhost:8080/"
        },
        "id": "FYi9Y95G89ZH",
        "outputId": "5bf06e41-67e1-46da-dc42-7ed87b6a0d64"
      },
      "execution_count": 67,
      "outputs": [
        {
          "output_type": "stream",
          "name": "stdout",
          "text": [
            "movieId  1  2  3  5  6  7  10  11  16  17  ...  63082  68157  68358  68954  \\\n",
            "userId                                     ...                               \n",
            "7        0  0  0  0  0  0   0   0   0   0  ...      0      0      0      0   \n",
            "11       0  0  0  0  0  0   0   0   0   0  ...      0      0      0      0   \n",
            "14       0  0  0  0  0  0   0   0   0   0  ...      0      0      0      0   \n",
            "18       0  0  0  0  0  0   0   0   0   0  ...      0      0      0      0   \n",
            "20       0  0  0  0  0  0   0   0   0   0  ...      0      0      0      0   \n",
            "\n",
            "movieId  69122  70286  72998  79132  80463  Cluster  \n",
            "userId                                               \n",
            "7            0      0      0      0      0       29  \n",
            "11           0      0      0      0      0       29  \n",
            "14           0      0      0      0      0       14  \n",
            "18           0      0      0      0      0       29  \n",
            "20           0      0      0      0      0       29  \n",
            "\n",
            "[5 rows x 674 columns]\n"
          ]
        }
      ]
    },
    {
      "cell_type": "code",
      "source": [
        "transactions = movie_popularity\n"
      ],
      "metadata": {
        "id": "YjH7ZbGk9N3R"
      },
      "execution_count": 68,
      "outputs": []
    },
    {
      "cell_type": "code",
      "source": [],
      "metadata": {
        "id": "CYLj8kfq85k7"
      },
      "execution_count": null,
      "outputs": []
    },
    {
      "cell_type": "code",
      "source": [
        "print(user_movie_matrix.head())\n",
        "df =  user_movie_matrix\n",
        "\n",
        "\n"
      ],
      "metadata": {
        "colab": {
          "base_uri": "https://localhost:8080/"
        },
        "id": "y2_QqdM96y0F",
        "outputId": "d130a11f-9dab-47f2-9c1d-38e4d311f626"
      },
      "execution_count": 69,
      "outputs": [
        {
          "output_type": "stream",
          "name": "stdout",
          "text": [
            "movieId  1  2  3  5  6  7  10  11  16  17  ...  63082  68157  68358  68954  \\\n",
            "userId                                     ...                               \n",
            "7        0  0  0  0  0  0   0   0   0   0  ...      0      0      0      0   \n",
            "11       0  0  0  0  0  0   0   0   0   0  ...      0      0      0      0   \n",
            "14       0  0  0  0  0  0   0   0   0   0  ...      0      0      0      0   \n",
            "18       0  0  0  0  0  0   0   0   0   0  ...      0      0      0      0   \n",
            "20       0  0  0  0  0  0   0   0   0   0  ...      0      0      0      0   \n",
            "\n",
            "movieId  69122  70286  72998  79132  80463  Cluster  \n",
            "userId                                               \n",
            "7            0      0      0      0      0       29  \n",
            "11           0      0      0      0      0       29  \n",
            "14           0      0      0      0      0       14  \n",
            "18           0      0      0      0      0       29  \n",
            "20           0      0      0      0      0       29  \n",
            "\n",
            "[5 rows x 674 columns]\n"
          ]
        }
      ]
    },
    {
      "cell_type": "markdown",
      "source": [
        "#Apriori for rule mining"
      ],
      "metadata": {
        "id": "rU_fNB6EUTNP"
      }
    },
    {
      "cell_type": "code",
      "source": [
        "# data['InvoiceDate'] = pd.to_datetime(data['InvoiceDate'])\n",
        "# data.dropna(subset=['InvoiceNo', 'Description'], inplace=True)\n",
        "\n",
        "# transactions = data.groupby('CustomerID')['Description'].apply(list).tolist()\n",
        "# print(f\"number of transactions is: {len(transactions)}\")"
      ],
      "metadata": {
        "id": "2tLlnwOvabf-",
        "outputId": "d7ed48ea-e29b-4619-bf04-b9bb406fa8b5",
        "colab": {
          "base_uri": "https://localhost:8080/"
        }
      },
      "execution_count": null,
      "outputs": [
        {
          "output_type": "stream",
          "name": "stdout",
          "text": [
            "number of transactions is: 4372\n"
          ]
        }
      ]
    },
    {
      "cell_type": "code",
      "source": [
        "!pip install efficient-apriori"
      ],
      "metadata": {
        "id": "U3eNxbjikpNe",
        "outputId": "c9129fb5-64b5-4156-e0e9-8397533c51d3",
        "colab": {
          "base_uri": "https://localhost:8080/"
        }
      },
      "execution_count": null,
      "outputs": [
        {
          "output_type": "stream",
          "name": "stdout",
          "text": [
            "Requirement already satisfied: efficient-apriori in /usr/local/lib/python3.11/dist-packages (2.0.5)\n"
          ]
        }
      ]
    },
    {
      "cell_type": "code",
      "source": [
        "import pandas as pd\n",
        "# from mlxtend.frequent_patterns import apriori, association_rules\n",
        "from mlxtend.preprocessing import TransactionEncoder\n",
        "\n",
        "# Sample a smaller subset\n",
        "transactions = user_movie_matrix.drop(columns=['Cluster'])\n",
        "\n",
        "# Optimize TransactionEncoder using sparse format\n",
        "# te = TransactionEncoder()\n",
        "# te_ary = te.fit(transactions).transform(transactions, sparse=True)\n",
        "# df = pd.DataFrame.sparse.from_spmatrix(te_ary, columns=te.columns_)\n",
        "\n",
        "# Apply Apriori with a higher support threshold (adjust as needed)\n",
        "# frequent_itemsets, rules = apriori(df, min_support=0.05, min_confidence = 0.5)\n",
        "from mlxtend.frequent_patterns import fpgrowth, association_rules\n",
        "frequent_itemsets = fpgrowth(transactions, min_support=0.00005, use_colnames=True)\n",
        "rules = association_rules(frequent_itemsets, metric=\"lift\", min_threshold=1.0)\n",
        "\n",
        "# Generate association rules\n",
        "# if not frequent_itemsets.empty:\n",
        "#     rules = association_rules(frequent_itemsets, metric=\"lift\", min_threshold=1.0)\n",
        "print(rules)"
      ],
      "metadata": {
        "id": "Zrk63WVodLtC",
        "outputId": "f127978e-ad85-4e4e-ac9c-dddaf2747fb7",
        "colab": {
          "base_uri": "https://localhost:8080/"
        }
      },
      "execution_count": 70,
      "outputs": [
        {
          "output_type": "stream",
          "name": "stderr",
          "text": [
            "/usr/local/lib/python3.11/dist-packages/mlxtend/frequent_patterns/fpcommon.py:161: DeprecationWarning: DataFrames with non-bool types result in worse computationalperformance and their support might be discontinued in the future.Please use a DataFrame with bool type\n",
            "  warnings.warn(\n"
          ]
        },
        {
          "output_type": "stream",
          "name": "stdout",
          "text": [
            "    antecedents consequents  antecedent support  consequent support   support  \\\n",
            "0         (208)      (2628)            0.003197            0.003063  0.000089   \n",
            "1        (2628)       (208)            0.003063            0.003197  0.000089   \n",
            "2         (356)       (110)            0.006837            0.005550  0.000089   \n",
            "3         (110)       (356)            0.005550            0.006837  0.000089   \n",
            "4        (1193)      (2916)            0.003063            0.003285  0.000089   \n",
            "..          ...         ...                 ...                 ...       ...   \n",
            "247       (204)       (593)            0.000977            0.006393  0.000089   \n",
            "248       (480)      (2455)            0.006837            0.001199  0.000089   \n",
            "249      (2455)       (480)            0.001199            0.006837  0.000089   \n",
            "250       (420)       (780)            0.001021            0.005061  0.000089   \n",
            "251       (780)       (420)            0.005061            0.001021  0.000089   \n",
            "\n",
            "     confidence       lift  representativity  leverage  conviction  \\\n",
            "0      0.027778   9.067633               1.0  0.000079    1.025421   \n",
            "1      0.028986   9.067633               1.0  0.000079    1.026559   \n",
            "2      0.012987   2.340156               1.0  0.000051    1.007535   \n",
            "3      0.016000   2.340156               1.0  0.000051    1.009312   \n",
            "4      0.028986   8.822562               1.0  0.000079    1.026467   \n",
            "..          ...        ...               ...       ...         ...   \n",
            "247    0.090909  14.219697               1.0  0.000083    1.092968   \n",
            "248    0.012987  10.834055               1.0  0.000081    1.011943   \n",
            "249    0.074074  10.834055               1.0  0.000081    1.072616   \n",
            "250    0.086957  17.180778               1.0  0.000084    1.089695   \n",
            "251    0.017544  17.180778               1.0  0.000084    1.016818   \n",
            "\n",
            "     zhangs_metric   jaccard  certainty  kulczynski  \n",
            "0         0.892571  0.014388   0.024790    0.028382  \n",
            "1         0.892452  0.014388   0.025872    0.028382  \n",
            "2         0.576620  0.007220   0.007479    0.014494  \n",
            "3         0.575874  0.007220   0.009226    0.014494  \n",
            "4         0.889379  0.014184   0.025785    0.028006  \n",
            "..             ...       ...        ...         ...  \n",
            "247       0.930584  0.012195   0.085060    0.052399  \n",
            "248       0.913947  0.011173   0.011802    0.043531  \n",
            "249       0.908788  0.011173   0.067700    0.043531  \n",
            "250       0.942758  0.014815   0.082312    0.052250  \n",
            "251       0.946586  0.014815   0.016540    0.052250  \n",
            "\n",
            "[252 rows x 14 columns]\n"
          ]
        }
      ]
    },
    {
      "cell_type": "code",
      "source": [
        "import numpy as np\n",
        "\n",
        "# Calculate the average support, confidence, and lift from the rules DataFrame\n",
        "avg_support = np.mean(rules['support'])\n",
        "avg_confidence = np.mean(rules['confidence'])\n",
        "avg_lift = np.mean(rules['lift'])\n",
        "\n",
        "# Print the metrics\n",
        "print(f\"\\nMetrics: Support average: {avg_support:.4f}, Confidence average: {avg_confidence:.4f}, Lift average: {avg_lift:.4f}\")\n",
        "\n",
        "# Store the rules and itemsets for later use\n",
        "original_rules = rules\n",
        "original_itemsets = frequent_itemsets\n"
      ],
      "metadata": {
        "colab": {
          "base_uri": "https://localhost:8080/"
        },
        "id": "pGoVhVLUBi0Y",
        "outputId": "9dfaf9a8-b284-42e7-b919-55ab9f25ea2e"
      },
      "execution_count": 71,
      "outputs": [
        {
          "output_type": "stream",
          "name": "stdout",
          "text": [
            "\n",
            "Metrics: Support average: 0.0001, Confidence average: 0.0400, Lift average: 18.2813\n"
          ]
        }
      ]
    },
    {
      "cell_type": "code",
      "source": [
        "# top rules by lift\n",
        "# top_lift_rules = rules.sort_values('lift', ascending=False).head(100)\n",
        "# print(top_lift_rules)\n"
      ],
      "metadata": {
        "id": "Mch0QcYun0r-"
      },
      "execution_count": null,
      "outputs": []
    },
    {
      "cell_type": "code",
      "source": [
        "# import matplotlib.pyplot as plt\n",
        "# import networkx as nx\n",
        "# from mlxtend.frequent_patterns import apriori, association_rules\n",
        "\n",
        "# # Create a directed graph\n",
        "# G = nx.DiGraph()\n",
        "# narrow_rules = rules[0:25]\n",
        "# # Add nodes and directed edges\n",
        "# for _, rule in narrow_rules.iterrows():\n",
        "#     antecedent = ', '.join(list(rule['antecedents']))\n",
        "#     consequent = ', '.join(list(rule['consequents']))\n",
        "\n",
        "#     # Add a directed edge from antecedent to consequent\n",
        "#     G.add_edge(antecedent, consequent, weight=rule['lift'], support=rule['support'], confidence=rule['confidence'])\n",
        "\n",
        "# # Draw the directed graph\n",
        "# plt.figure(figsize=(12, 12))\n",
        "# pos = nx.spring_layout(G, k=0.3, iterations=20)  # Layout for the graph\n",
        "\n",
        "# # Draw the nodes and edges\n",
        "# nx.draw_networkx_nodes(G, pos, node_size=200, node_color='lightblue', alpha=0.7)\n",
        "# nx.draw_networkx_edges(G, pos, width=2.0, alpha=0.5, arrowstyle='->', arrowsize=10)\n",
        "# nx.draw_networkx_labels(G, pos, font_size=10, font_color='black')\n",
        "\n",
        "# # Add edge labels (optional, if you want to display lift, confidence, or support)\n",
        "# # edge_labels = nx.get_edge_attributes(G, 'weight')\n",
        "# # nx.draw_networkx_edge_labels(G, pos, edge_labels=edge_labels)\n",
        "\n",
        "# plt.title(\"Association Rules Directed Graph\")\n",
        "# plt.axis('off')\n",
        "# plt.show()\n",
        "\n"
      ],
      "metadata": {
        "id": "4pHXBq27f-Lb"
      },
      "execution_count": null,
      "outputs": []
    },
    {
      "cell_type": "code",
      "source": [
        "# import plotly.graph_objects as go\n",
        "# import networkx as nx\n",
        "# from mlxtend.frequent_patterns import apriori, association_rules\n",
        "\n",
        "# # Example association rules (you need to load your own rules here)\n",
        "# # Example: rules = association_rules(frequent_itemsets, metric=\"lift\", min_threshold=1.0)\n",
        "\n",
        "# # Create a directed graph\n",
        "# G = nx.DiGraph()\n",
        "\n",
        "# # Add nodes and directed edges\n",
        "# for _, rule in narrow_rules.iterrows():\n",
        "#     antecedent = ', '.join(list(rule['antecedents']))\n",
        "#     consequent = ', '.join(list(rule['consequents']))\n",
        "\n",
        "#     # Add a directed edge from antecedent to consequent\n",
        "#     G.add_edge(antecedent, consequent, weight=rule['lift'], support=rule['support'], confidence=rule['confidence'])\n",
        "\n",
        "# # Get positions of nodes using a layout\n",
        "# pos = nx.spring_layout(G, k=0.3, iterations=20)\n",
        "\n",
        "# # Get edge and node information for Plotly\n",
        "# edge_x = []\n",
        "# edge_y = []\n",
        "# for edge in G.edges():\n",
        "#     x0, y0 = pos[edge[0]]\n",
        "#     x1, y1 = pos[edge[1]]\n",
        "#     edge_x.append(x0)\n",
        "#     edge_y.append(y0)\n",
        "#     edge_x.append(x1)\n",
        "#     edge_y.append(y1)\n",
        "\n",
        "# # Node positions\n",
        "# node_x = [pos[node][0] for node in G.nodes()]\n",
        "# node_y = [pos[node][1] for node in G.nodes()]\n",
        "\n",
        "# # Create hover text for nodes (empty text for default)\n",
        "# hover_text = [node for node in G.nodes()]\n",
        "\n",
        "# # Create the plotly figure\n",
        "# fig = go.Figure()\n",
        "\n",
        "# # Add directed edges with arrows (using annotations for arrows)\n",
        "# for edge in G.edges():\n",
        "#     x0, y0 = pos[edge[0]]\n",
        "#     x1, y1 = pos[edge[1]]\n",
        "\n",
        "#     # Add edge line\n",
        "#     fig.add_trace(go.Scatter(x=[x0, x1], y=[y0, y1],\n",
        "#                              line=dict(width=1, color='gray'),\n",
        "#                              mode='lines',\n",
        "#                              showlegend=False))\n",
        "\n",
        "#     # Add arrow (using annotations)\n",
        "#     fig.add_annotation(\n",
        "#         x=x1, y=y1,\n",
        "#         ax=x0, ay=y0,\n",
        "#         axref=\"x\", ayref=\"y\", xref=\"x\", yref=\"y\",\n",
        "#         showarrow=True, arrowhead=2, arrowsize=1,\n",
        "#         arrowcolor='gray', opacity=0.7\n",
        "#     )\n",
        "\n",
        "# # Add nodes to the plot\n",
        "# fig.add_trace(go.Scatter(x=node_x, y=node_y,\n",
        "#                          mode='markers',\n",
        "#                          hoverinfo='text',  # This ensures text shows on hover only\n",
        "#                          hovertext=hover_text,  # Set hovertext to show item names on hover\n",
        "#                          marker=dict(color='skyblue', size=10, line=dict(width=1, color='black'))))\n",
        "\n",
        "# # Add edge labels (optional: you can use lift or other metrics)\n",
        "# edge_labels = nx.get_edge_attributes(G, 'weight')\n",
        "# for edge, label in edge_labels.items():\n",
        "#     x0, y0 = pos[edge[0]]\n",
        "#     x1, y1 = pos[edge[1]]\n",
        "#     fig.add_trace(go.Scatter(x=[(x0+x1)/2], y=[(y0+y1)/2],\n",
        "#                              text=[f'Lift: {label:.2f}'],\n",
        "#                              mode='text',\n",
        "#                              showlegend=False))\n",
        "\n",
        "# # Update layout settings for better visualization\n",
        "# fig.update_layout(title=\"Association Rules Directed Graph (Interactive)\",\n",
        "#                   showlegend=False,\n",
        "#                   hovermode='closest',\n",
        "#                   xaxis=dict(showgrid=False, zeroline=False),\n",
        "#                   yaxis=dict(showgrid=False, zeroline=False))\n",
        "\n",
        "# # Show the plot\n",
        "# fig.show()\n"
      ],
      "metadata": {
        "id": "IJrqXXbgiEl0"
      },
      "execution_count": null,
      "outputs": []
    },
    {
      "cell_type": "code",
      "source": [
        "# import seaborn as sns\n",
        "\n",
        "# # Plot support vs confidence\n",
        "# plt.figure(figsize=(10, 6))\n",
        "# sns.scatterplot(x='support', y='confidence', data=rules, hue='lift', palette='coolwarm', size='lift', sizes=(50, 300))\n",
        "# plt.title(\"Support vs Confidence with Lift\")\n",
        "# plt.xlabel('Support')\n",
        "# plt.ylabel('Confidence')\n",
        "# plt.show()\n",
        "\n",
        "# # Plot lift distribution\n",
        "# plt.figure(figsize=(10, 6))\n",
        "# sns.histplot(rules['lift'], kde=True)\n",
        "# plt.title(\"Lift Distribution\")\n",
        "# plt.xlabel('Lift')\n",
        "# plt.ylabel('Frequency')\n",
        "# plt.show()\n"
      ],
      "metadata": {
        "id": "p1uXodl4gAMw"
      },
      "execution_count": null,
      "outputs": []
    },
    {
      "cell_type": "markdown",
      "source": [
        "# Cluster items + Apriori\n"
      ],
      "metadata": {
        "id": "-qqhjLNWXnsL"
      }
    },
    {
      "cell_type": "code",
      "source": [
        "import pandas as pd\n",
        "import numpy as np\n",
        "# from mlxtend.frequent_patterns import apriori, association_rules\n",
        "from sklearn.cluster import KMeans\n",
        "from scipy.spatial.distance import cdist\n",
        "from sklearn.preprocessing import StandardScaler\n",
        "import pandas as pd\n",
        "import numpy as np\n",
        "from mlxtend.preprocessing import TransactionEncoder\n",
        "from sklearn.cluster import KMeans\n",
        "from scipy.spatial.distance import cdist\n",
        "import matplotlib.pyplot as plt\n",
        "\n",
        "#  Convert Transactions to One-Hot Encoded Format\n",
        "te = TransactionEncoder()\n",
        "one_hot = te.fit_transform(transactions)\n",
        "df = pd.DataFrame(one_hot, columns=te.columns_)\n",
        "\n",
        "#  Find Optimal Number of Clusters (Elbow Method)\n",
        "# distortions = []\n",
        "# K_range = range(2, 10)  # Try different values of K\n",
        "\n",
        "# for k in K_range:\n",
        "#     kmeans = KMeans(n_clusters=k, random_state=42, n_init=10)\n",
        "#     kmeans.fit(df)\n",
        "#     distortions.append(sum(np.min(cdist(df, kmeans.cluster_centers_, 'euclidean'), axis=1)) / df.shape[0])\n",
        "\n",
        "# #  Plot the Elbow Curve\n",
        "# plt.figure(figsize=(8, 5))\n",
        "# plt.plot(K_range, distortions, marker='o', linestyle='--')\n",
        "# plt.xlabel('Number of Clusters (k)')\n",
        "# plt.ylabel('Distortion')\n",
        "# plt.title('Elbow Method for Optimal k')\n",
        "# plt.show()\n",
        "\n",
        "\n"
      ],
      "metadata": {
        "id": "zJds2I7wXq9T"
      },
      "execution_count": null,
      "outputs": []
    },
    {
      "cell_type": "code",
      "source": [
        "#  Perform K-Means with Optimal k\n",
        "optimal_k = 4  # Choose based on the Elbow Method\n",
        "kmeans = KMeans(n_clusters=optimal_k, random_state=42, n_init=10)\n",
        "df['Cluster'] = kmeans.fit_predict(df)\n",
        "\n",
        "#  Print Cluster Assignments\n",
        "print(df[['Cluster']])\n",
        "# for i in range(optimal_k):\n",
        "# # Print Cluster Assignments\n",
        "# print(df[['Cluster']])\n",
        "\n",
        "# Iterate over clusters and print the sum of values for each cluster\n"
      ],
      "metadata": {
        "id": "f_ZRBymlzjhC",
        "outputId": "f4f5e35b-c6f6-4329-92e0-64761f8d2715",
        "colab": {
          "base_uri": "https://localhost:8080/"
        }
      },
      "execution_count": null,
      "outputs": [
        {
          "output_type": "stream",
          "name": "stdout",
          "text": [
            "      Cluster\n",
            "0           3\n",
            "1           2\n",
            "2           3\n",
            "3           2\n",
            "4           3\n",
            "...       ...\n",
            "4367        3\n",
            "4368        3\n",
            "4369        3\n",
            "4370        0\n",
            "4371        3\n",
            "\n",
            "[4372 rows x 1 columns]\n"
          ]
        }
      ]
    },
    {
      "cell_type": "code",
      "source": [
        "print(df['Cluster'].value_counts().sort_index())\n"
      ],
      "metadata": {
        "id": "ppwiScnU03tS",
        "outputId": "046a281d-eed2-453d-eee2-6656b614b2b4",
        "colab": {
          "base_uri": "https://localhost:8080/"
        }
      },
      "execution_count": null,
      "outputs": [
        {
          "output_type": "stream",
          "name": "stdout",
          "text": [
            "Cluster\n",
            "0     160\n",
            "1       5\n",
            "2     962\n",
            "3    3245\n",
            "Name: count, dtype: int64\n"
          ]
        }
      ]
    },
    {
      "cell_type": "code",
      "source": [
        "\n",
        "# Function to process a single cluster\n",
        "def process_cluster(cluster_id, df):\n",
        "    print(f\"\\nProcessing Cluster {cluster_id}...\")\n",
        "\n",
        "    # Extract transactions for the cluster\n",
        "    cluster_data = df[df['Cluster'] == cluster_id].drop(columns=['Cluster'])\n",
        "\n",
        "\n",
        "    # Run Apriori\n",
        "    from mlxtend.frequent_patterns import fpgrowth, association_rules\n",
        "    # from scipy.sparse import csr_matrix\n",
        "    # cluster_data_sparse = csr_matrix(cluster_data)\n",
        "    # df_cluster_data = pd.DataFrame.sparse.from_spmatrix(cluster_data_sparse, columns=cluster_data.columns)\n",
        "\n",
        "    scale_k = 0.00005 * np.sqrt(len(transactions))\n",
        "    min_support =  scale_k / np.sqrt(len(cluster_data)) if len(cluster_data) > 0 else 0\n",
        "    print(f\"min_support: {min_support}\")\n",
        "\n",
        "\n",
        "    frequent_itemsets = fpgrowth(cluster_data, min_support=min_support, use_colnames=True)\n",
        "    if frequent_itemsets.empty:\n",
        "        print(f\"No frequent itemsets found in Cluster {cluster_id}.\")\n",
        "        return None\n",
        "    rules = association_rules(frequent_itemsets, metric=\"lift\", min_threshold=1.0)\n",
        "\n",
        "    print(f\"Cluster {cluster_id}: {len(rules)} rules generated.\")\n",
        "\n",
        "    return cluster_id, {\"frequent_itemsets\": frequent_itemsets, \"rules\": rules}\n",
        "\n",
        "# Process clusters sequentially (without parallel computation)\n",
        "cluster_results = {}\n",
        "# Loop through all unique cluster IDs\n",
        "for cluster_id in sorted(df['Cluster'].unique()):\n",
        "    if df['Cluster'].value_counts()[cluster_id] < 30:\n",
        "        cluster_results[cluster_id] = cluster_id, {\"frequent_itemsets\": None, \"rules\": None}\n",
        "        continue\n",
        "    cluster_results[cluster_id] = process_cluster(cluster_id, df)\n"
      ],
      "metadata": {
        "id": "dOb8TpaDX2Cg",
        "outputId": "8b832e72-619a-40cb-ab1f-7fe0350e305c",
        "colab": {
          "base_uri": "https://localhost:8080/"
        }
      },
      "execution_count": 74,
      "outputs": [
        {
          "output_type": "stream",
          "name": "stdout",
          "text": [
            "\n",
            "Processing Cluster 0...\n",
            "min_support: 0.0007288528075642843\n",
            "Cluster 0: 318 rules generated.\n",
            "\n",
            "Processing Cluster 1...\n",
            "min_support: 0.0006364808824065848\n"
          ]
        },
        {
          "output_type": "stream",
          "name": "stderr",
          "text": [
            "/usr/local/lib/python3.11/dist-packages/mlxtend/frequent_patterns/fpcommon.py:161: DeprecationWarning: DataFrames with non-bool types result in worse computationalperformance and their support might be discontinued in the future.Please use a DataFrame with bool type\n",
            "  warnings.warn(\n",
            "/usr/local/lib/python3.11/dist-packages/mlxtend/frequent_patterns/association_rules.py:186: RuntimeWarning: invalid value encountered in divide\n",
            "  cert_metric = np.where(certainty_denom == 0, 0, certainty_num / certainty_denom)\n",
            "/usr/local/lib/python3.11/dist-packages/mlxtend/frequent_patterns/fpcommon.py:161: DeprecationWarning: DataFrames with non-bool types result in worse computationalperformance and their support might be discontinued in the future.Please use a DataFrame with bool type\n",
            "  warnings.warn(\n",
            "/usr/local/lib/python3.11/dist-packages/mlxtend/frequent_patterns/association_rules.py:186: RuntimeWarning: invalid value encountered in divide\n",
            "  cert_metric = np.where(certainty_denom == 0, 0, certainty_num / certainty_denom)\n",
            "/usr/local/lib/python3.11/dist-packages/mlxtend/frequent_patterns/fpcommon.py:161: DeprecationWarning: DataFrames with non-bool types result in worse computationalperformance and their support might be discontinued in the future.Please use a DataFrame with bool type\n",
            "  warnings.warn(\n",
            "/usr/local/lib/python3.11/dist-packages/mlxtend/frequent_patterns/association_rules.py:186: RuntimeWarning: invalid value encountered in divide\n",
            "  cert_metric = np.where(certainty_denom == 0, 0, certainty_num / certainty_denom)\n",
            "/usr/local/lib/python3.11/dist-packages/mlxtend/frequent_patterns/fpcommon.py:161: DeprecationWarning: DataFrames with non-bool types result in worse computationalperformance and their support might be discontinued in the future.Please use a DataFrame with bool type\n",
            "  warnings.warn(\n",
            "/usr/local/lib/python3.11/dist-packages/mlxtend/frequent_patterns/association_rules.py:186: RuntimeWarning: invalid value encountered in divide\n",
            "  cert_metric = np.where(certainty_denom == 0, 0, certainty_num / certainty_denom)\n"
          ]
        },
        {
          "output_type": "stream",
          "name": "stdout",
          "text": [
            "Cluster 1: 222 rules generated.\n",
            "\n",
            "Processing Cluster 2...\n",
            "min_support: 0.0006086546856106421\n",
            "Cluster 2: 212 rules generated.\n",
            "\n",
            "Processing Cluster 3...\n",
            "min_support: 0.0009530088176148283\n",
            "Cluster 3: 134 rules generated.\n",
            "\n",
            "Processing Cluster 5...\n",
            "min_support: 0.0006711780687716189\n"
          ]
        },
        {
          "output_type": "stream",
          "name": "stderr",
          "text": [
            "/usr/local/lib/python3.11/dist-packages/mlxtend/frequent_patterns/fpcommon.py:161: DeprecationWarning: DataFrames with non-bool types result in worse computationalperformance and their support might be discontinued in the future.Please use a DataFrame with bool type\n",
            "  warnings.warn(\n"
          ]
        },
        {
          "output_type": "stream",
          "name": "stdout",
          "text": [
            "Cluster 5: 326 rules generated.\n",
            "\n",
            "Processing Cluster 6...\n",
            "min_support: 0.0001102456883810192\n"
          ]
        },
        {
          "output_type": "stream",
          "name": "stderr",
          "text": [
            "/usr/local/lib/python3.11/dist-packages/mlxtend/frequent_patterns/fpcommon.py:161: DeprecationWarning: DataFrames with non-bool types result in worse computationalperformance and their support might be discontinued in the future.Please use a DataFrame with bool type\n",
            "  warnings.warn(\n"
          ]
        },
        {
          "output_type": "stream",
          "name": "stdout",
          "text": [
            "Cluster 6: 9096 rules generated.\n",
            "\n",
            "Processing Cluster 7...\n",
            "min_support: 0.0005755304458650707\n",
            "Cluster 7: 202 rules generated.\n",
            "\n",
            "Processing Cluster 8...\n",
            "min_support: 0.0009607886105165698\n",
            "Cluster 8: 66 rules generated.\n",
            "\n",
            "Processing Cluster 9...\n",
            "min_support: 0.0007823459703937283\n",
            "Cluster 9: 186 rules generated.\n",
            "\n",
            "Processing Cluster 10...\n",
            "min_support: 0.0008723221572022265\n",
            "Cluster 10: 138 rules generated.\n",
            "\n",
            "Processing Cluster 11...\n",
            "min_support: 0.0009769374492059443\n",
            "Cluster 11: 76 rules generated.\n",
            "\n",
            "Processing Cluster 12...\n",
            "min_support: 0.0005969861012312524\n",
            "Cluster 12: 312 rules generated.\n",
            "\n",
            "Processing Cluster 13...\n",
            "min_support: 0.0008139229621010174\n",
            "Cluster 13: 110 rules generated.\n",
            "\n",
            "Processing Cluster 14...\n",
            "min_support: 0.0008496605657102587\n",
            "Cluster 14: 230 rules generated.\n",
            "\n",
            "Processing Cluster 15...\n",
            "min_support: 0.000705916839344973\n"
          ]
        },
        {
          "output_type": "stream",
          "name": "stderr",
          "text": [
            "/usr/local/lib/python3.11/dist-packages/mlxtend/frequent_patterns/fpcommon.py:161: DeprecationWarning: DataFrames with non-bool types result in worse computationalperformance and their support might be discontinued in the future.Please use a DataFrame with bool type\n",
            "  warnings.warn(\n",
            "/usr/local/lib/python3.11/dist-packages/mlxtend/frequent_patterns/fpcommon.py:161: DeprecationWarning: DataFrames with non-bool types result in worse computationalperformance and their support might be discontinued in the future.Please use a DataFrame with bool type\n",
            "  warnings.warn(\n",
            "/usr/local/lib/python3.11/dist-packages/mlxtend/frequent_patterns/association_rules.py:186: RuntimeWarning: invalid value encountered in divide\n",
            "  cert_metric = np.where(certainty_denom == 0, 0, certainty_num / certainty_denom)\n",
            "/usr/local/lib/python3.11/dist-packages/mlxtend/frequent_patterns/fpcommon.py:161: DeprecationWarning: DataFrames with non-bool types result in worse computationalperformance and their support might be discontinued in the future.Please use a DataFrame with bool type\n",
            "  warnings.warn(\n",
            "/usr/local/lib/python3.11/dist-packages/mlxtend/frequent_patterns/association_rules.py:186: RuntimeWarning: invalid value encountered in divide\n",
            "  cert_metric = np.where(certainty_denom == 0, 0, certainty_num / certainty_denom)\n",
            "/usr/local/lib/python3.11/dist-packages/mlxtend/frequent_patterns/fpcommon.py:161: DeprecationWarning: DataFrames with non-bool types result in worse computationalperformance and their support might be discontinued in the future.Please use a DataFrame with bool type\n",
            "  warnings.warn(\n",
            "/usr/local/lib/python3.11/dist-packages/mlxtend/frequent_patterns/association_rules.py:186: RuntimeWarning: invalid value encountered in divide\n",
            "  cert_metric = np.where(certainty_denom == 0, 0, certainty_num / certainty_denom)\n",
            "/usr/local/lib/python3.11/dist-packages/mlxtend/frequent_patterns/fpcommon.py:161: DeprecationWarning: DataFrames with non-bool types result in worse computationalperformance and their support might be discontinued in the future.Please use a DataFrame with bool type\n",
            "  warnings.warn(\n",
            "/usr/local/lib/python3.11/dist-packages/mlxtend/frequent_patterns/association_rules.py:186: RuntimeWarning: invalid value encountered in divide\n",
            "  cert_metric = np.where(certainty_denom == 0, 0, certainty_num / certainty_denom)\n",
            "/usr/local/lib/python3.11/dist-packages/mlxtend/frequent_patterns/fpcommon.py:161: DeprecationWarning: DataFrames with non-bool types result in worse computationalperformance and their support might be discontinued in the future.Please use a DataFrame with bool type\n",
            "  warnings.warn(\n",
            "/usr/local/lib/python3.11/dist-packages/mlxtend/frequent_patterns/association_rules.py:186: RuntimeWarning: invalid value encountered in divide\n",
            "  cert_metric = np.where(certainty_denom == 0, 0, certainty_num / certainty_denom)\n",
            "/usr/local/lib/python3.11/dist-packages/mlxtend/frequent_patterns/fpcommon.py:161: DeprecationWarning: DataFrames with non-bool types result in worse computationalperformance and their support might be discontinued in the future.Please use a DataFrame with bool type\n",
            "  warnings.warn(\n",
            "/usr/local/lib/python3.11/dist-packages/mlxtend/frequent_patterns/association_rules.py:186: RuntimeWarning: invalid value encountered in divide\n",
            "  cert_metric = np.where(certainty_denom == 0, 0, certainty_num / certainty_denom)\n",
            "/usr/local/lib/python3.11/dist-packages/mlxtend/frequent_patterns/fpcommon.py:161: DeprecationWarning: DataFrames with non-bool types result in worse computationalperformance and their support might be discontinued in the future.Please use a DataFrame with bool type\n",
            "  warnings.warn(\n",
            "/usr/local/lib/python3.11/dist-packages/mlxtend/frequent_patterns/association_rules.py:186: RuntimeWarning: invalid value encountered in divide\n",
            "  cert_metric = np.where(certainty_denom == 0, 0, certainty_num / certainty_denom)\n",
            "/usr/local/lib/python3.11/dist-packages/mlxtend/frequent_patterns/fpcommon.py:161: DeprecationWarning: DataFrames with non-bool types result in worse computationalperformance and their support might be discontinued in the future.Please use a DataFrame with bool type\n",
            "  warnings.warn(\n",
            "/usr/local/lib/python3.11/dist-packages/mlxtend/frequent_patterns/association_rules.py:186: RuntimeWarning: invalid value encountered in divide\n",
            "  cert_metric = np.where(certainty_denom == 0, 0, certainty_num / certainty_denom)\n",
            "/usr/local/lib/python3.11/dist-packages/mlxtend/frequent_patterns/fpcommon.py:161: DeprecationWarning: DataFrames with non-bool types result in worse computationalperformance and their support might be discontinued in the future.Please use a DataFrame with bool type\n",
            "  warnings.warn(\n",
            "/usr/local/lib/python3.11/dist-packages/mlxtend/frequent_patterns/association_rules.py:186: RuntimeWarning: invalid value encountered in divide\n",
            "  cert_metric = np.where(certainty_denom == 0, 0, certainty_num / certainty_denom)\n",
            "/usr/local/lib/python3.11/dist-packages/mlxtend/frequent_patterns/fpcommon.py:161: DeprecationWarning: DataFrames with non-bool types result in worse computationalperformance and their support might be discontinued in the future.Please use a DataFrame with bool type\n",
            "  warnings.warn(\n",
            "/usr/local/lib/python3.11/dist-packages/mlxtend/frequent_patterns/association_rules.py:186: RuntimeWarning: invalid value encountered in divide\n",
            "  cert_metric = np.where(certainty_denom == 0, 0, certainty_num / certainty_denom)\n",
            "/usr/local/lib/python3.11/dist-packages/mlxtend/frequent_patterns/fpcommon.py:161: DeprecationWarning: DataFrames with non-bool types result in worse computationalperformance and their support might be discontinued in the future.Please use a DataFrame with bool type\n",
            "  warnings.warn(\n",
            "/usr/local/lib/python3.11/dist-packages/mlxtend/frequent_patterns/fpcommon.py:161: DeprecationWarning: DataFrames with non-bool types result in worse computationalperformance and their support might be discontinued in the future.Please use a DataFrame with bool type\n",
            "  warnings.warn(\n"
          ]
        },
        {
          "output_type": "stream",
          "name": "stdout",
          "text": [
            "Cluster 15: 50 rules generated.\n",
            "\n",
            "Processing Cluster 16...\n",
            "min_support: 0.0006658722300649379\n",
            "Cluster 16: 90 rules generated.\n",
            "\n",
            "Processing Cluster 17...\n",
            "min_support: 0.00090999353585293\n",
            "Cluster 17: 48 rules generated.\n",
            "\n",
            "Processing Cluster 18...\n",
            "min_support: 0.000641109895267745\n",
            "Cluster 18: 450 rules generated.\n",
            "\n",
            "Processing Cluster 19...\n",
            "min_support: 0.0006967288098555697\n"
          ]
        },
        {
          "output_type": "stream",
          "name": "stderr",
          "text": [
            "/usr/local/lib/python3.11/dist-packages/mlxtend/frequent_patterns/association_rules.py:186: RuntimeWarning: invalid value encountered in divide\n",
            "  cert_metric = np.where(certainty_denom == 0, 0, certainty_num / certainty_denom)\n",
            "/usr/local/lib/python3.11/dist-packages/mlxtend/frequent_patterns/fpcommon.py:161: DeprecationWarning: DataFrames with non-bool types result in worse computationalperformance and their support might be discontinued in the future.Please use a DataFrame with bool type\n",
            "  warnings.warn(\n",
            "/usr/local/lib/python3.11/dist-packages/mlxtend/frequent_patterns/association_rules.py:186: RuntimeWarning: invalid value encountered in divide\n",
            "  cert_metric = np.where(certainty_denom == 0, 0, certainty_num / certainty_denom)\n",
            "/usr/local/lib/python3.11/dist-packages/mlxtend/frequent_patterns/fpcommon.py:161: DeprecationWarning: DataFrames with non-bool types result in worse computationalperformance and their support might be discontinued in the future.Please use a DataFrame with bool type\n",
            "  warnings.warn(\n",
            "/usr/local/lib/python3.11/dist-packages/mlxtend/frequent_patterns/association_rules.py:186: RuntimeWarning: invalid value encountered in divide\n",
            "  cert_metric = np.where(certainty_denom == 0, 0, certainty_num / certainty_denom)\n",
            "/usr/local/lib/python3.11/dist-packages/mlxtend/frequent_patterns/fpcommon.py:161: DeprecationWarning: DataFrames with non-bool types result in worse computationalperformance and their support might be discontinued in the future.Please use a DataFrame with bool type\n",
            "  warnings.warn(\n",
            "/usr/local/lib/python3.11/dist-packages/mlxtend/frequent_patterns/association_rules.py:186: RuntimeWarning: invalid value encountered in divide\n",
            "  cert_metric = np.where(certainty_denom == 0, 0, certainty_num / certainty_denom)\n",
            "/usr/local/lib/python3.11/dist-packages/mlxtend/frequent_patterns/fpcommon.py:161: DeprecationWarning: DataFrames with non-bool types result in worse computationalperformance and their support might be discontinued in the future.Please use a DataFrame with bool type\n",
            "  warnings.warn(\n",
            "/usr/local/lib/python3.11/dist-packages/mlxtend/frequent_patterns/association_rules.py:186: RuntimeWarning: invalid value encountered in divide\n",
            "  cert_metric = np.where(certainty_denom == 0, 0, certainty_num / certainty_denom)\n",
            "/usr/local/lib/python3.11/dist-packages/mlxtend/frequent_patterns/fpcommon.py:161: DeprecationWarning: DataFrames with non-bool types result in worse computationalperformance and their support might be discontinued in the future.Please use a DataFrame with bool type\n",
            "  warnings.warn(\n",
            "/usr/local/lib/python3.11/dist-packages/mlxtend/frequent_patterns/association_rules.py:186: RuntimeWarning: invalid value encountered in divide\n",
            "  cert_metric = np.where(certainty_denom == 0, 0, certainty_num / certainty_denom)\n",
            "/usr/local/lib/python3.11/dist-packages/mlxtend/frequent_patterns/fpcommon.py:161: DeprecationWarning: DataFrames with non-bool types result in worse computationalperformance and their support might be discontinued in the future.Please use a DataFrame with bool type\n",
            "  warnings.warn(\n",
            "/usr/local/lib/python3.11/dist-packages/mlxtend/frequent_patterns/association_rules.py:186: RuntimeWarning: invalid value encountered in divide\n",
            "  cert_metric = np.where(certainty_denom == 0, 0, certainty_num / certainty_denom)\n",
            "/usr/local/lib/python3.11/dist-packages/mlxtend/frequent_patterns/fpcommon.py:161: DeprecationWarning: DataFrames with non-bool types result in worse computationalperformance and their support might be discontinued in the future.Please use a DataFrame with bool type\n",
            "  warnings.warn(\n",
            "/usr/local/lib/python3.11/dist-packages/mlxtend/frequent_patterns/association_rules.py:186: RuntimeWarning: invalid value encountered in divide\n",
            "  cert_metric = np.where(certainty_denom == 0, 0, certainty_num / certainty_denom)\n",
            "/usr/local/lib/python3.11/dist-packages/mlxtend/frequent_patterns/fpcommon.py:161: DeprecationWarning: DataFrames with non-bool types result in worse computationalperformance and their support might be discontinued in the future.Please use a DataFrame with bool type\n",
            "  warnings.warn(\n",
            "/usr/local/lib/python3.11/dist-packages/mlxtend/frequent_patterns/association_rules.py:186: RuntimeWarning: invalid value encountered in divide\n",
            "  cert_metric = np.where(certainty_denom == 0, 0, certainty_num / certainty_denom)\n",
            "/usr/local/lib/python3.11/dist-packages/mlxtend/frequent_patterns/fpcommon.py:161: DeprecationWarning: DataFrames with non-bool types result in worse computationalperformance and their support might be discontinued in the future.Please use a DataFrame with bool type\n",
            "  warnings.warn(\n",
            "/usr/local/lib/python3.11/dist-packages/mlxtend/frequent_patterns/association_rules.py:186: RuntimeWarning: invalid value encountered in divide\n",
            "  cert_metric = np.where(certainty_denom == 0, 0, certainty_num / certainty_denom)\n",
            "/usr/local/lib/python3.11/dist-packages/mlxtend/frequent_patterns/fpcommon.py:161: DeprecationWarning: DataFrames with non-bool types result in worse computationalperformance and their support might be discontinued in the future.Please use a DataFrame with bool type\n",
            "  warnings.warn(\n"
          ]
        },
        {
          "output_type": "stream",
          "name": "stdout",
          "text": [
            "Cluster 19: 230 rules generated.\n",
            "\n",
            "Processing Cluster 20...\n",
            "min_support: 0.0008496605657102587\n",
            "Cluster 20: 256 rules generated.\n",
            "\n",
            "Processing Cluster 21...\n",
            "min_support: 0.0006297216018008656\n",
            "Cluster 21: 124 rules generated.\n",
            "\n",
            "Processing Cluster 22...\n",
            "min_support: 0.000587758558167711\n",
            "Cluster 22: 130 rules generated.\n",
            "\n",
            "Processing Cluster 23...\n",
            "min_support: 0.001050770025771017\n",
            "Cluster 23: 78 rules generated.\n",
            "\n",
            "Processing Cluster 24...\n",
            "min_support: 0.0009167593802050949\n",
            "Cluster 24: 52 rules generated.\n",
            "\n",
            "Processing Cluster 25...\n",
            "min_support: 0.0009607886105165698\n",
            "Cluster 25: 164 rules generated.\n",
            "\n",
            "Processing Cluster 26...\n",
            "min_support: 0.0008442658409094746\n",
            "Cluster 26: 166 rules generated.\n",
            "\n",
            "Processing Cluster 27...\n",
            "min_support: 0.0010118390098321876\n",
            "Cluster 27: 54 rules generated.\n",
            "\n",
            "Processing Cluster 28...\n",
            "min_support: 0.0007658736841020196\n",
            "Cluster 28: 162 rules generated.\n",
            "\n",
            "Processing Cluster 29...\n",
            "min_support: 6.246395856599167e-05\n",
            "Cluster 29: 11246 rules generated.\n",
            "\n",
            "Processing Cluster 30...\n",
            "min_support: 0.0011312704041354248\n",
            "Cluster 30: 144 rules generated.\n",
            "\n",
            "Processing Cluster 31...\n",
            "min_support: 0.001050770025771017\n",
            "Cluster 31: 112 rules generated.\n",
            "\n",
            "Processing Cluster 32...\n",
            "min_support: 0.0007028138931616624\n",
            "Cluster 32: 300 rules generated.\n",
            "\n",
            "Processing Cluster 33...\n",
            "min_support: 0.0009236784170813012\n",
            "Cluster 33: 58 rules generated.\n",
            "\n",
            "Processing Cluster 34...\n",
            "min_support: 0.0009379998667377304\n",
            "Cluster 34: 304 rules generated.\n",
            "\n",
            "Processing Cluster 35...\n",
            "min_support: 0.0012506664889836406\n",
            "Cluster 35: 216 rules generated.\n",
            "\n",
            "Processing Cluster 36...\n",
            "min_support: 0.000985323332193812\n",
            "Cluster 36: 196 rules generated.\n",
            "\n",
            "Processing Cluster 37...\n",
            "min_support: 0.0010027640371920575\n",
            "Cluster 37: 124 rules generated.\n",
            "\n",
            "Processing Cluster 38...\n",
            "min_support: 0.0006126989472816156\n"
          ]
        },
        {
          "output_type": "stream",
          "name": "stderr",
          "text": [
            "/usr/local/lib/python3.11/dist-packages/mlxtend/frequent_patterns/fpcommon.py:161: DeprecationWarning: DataFrames with non-bool types result in worse computationalperformance and their support might be discontinued in the future.Please use a DataFrame with bool type\n",
            "  warnings.warn(\n",
            "/usr/local/lib/python3.11/dist-packages/mlxtend/frequent_patterns/association_rules.py:186: RuntimeWarning: invalid value encountered in divide\n",
            "  cert_metric = np.where(certainty_denom == 0, 0, certainty_num / certainty_denom)\n",
            "/usr/local/lib/python3.11/dist-packages/mlxtend/frequent_patterns/fpcommon.py:161: DeprecationWarning: DataFrames with non-bool types result in worse computationalperformance and their support might be discontinued in the future.Please use a DataFrame with bool type\n",
            "  warnings.warn(\n",
            "/usr/local/lib/python3.11/dist-packages/mlxtend/frequent_patterns/association_rules.py:186: RuntimeWarning: invalid value encountered in divide\n",
            "  cert_metric = np.where(certainty_denom == 0, 0, certainty_num / certainty_denom)\n",
            "/usr/local/lib/python3.11/dist-packages/mlxtend/frequent_patterns/fpcommon.py:161: DeprecationWarning: DataFrames with non-bool types result in worse computationalperformance and their support might be discontinued in the future.Please use a DataFrame with bool type\n",
            "  warnings.warn(\n",
            "/usr/local/lib/python3.11/dist-packages/mlxtend/frequent_patterns/association_rules.py:186: RuntimeWarning: invalid value encountered in divide\n",
            "  cert_metric = np.where(certainty_denom == 0, 0, certainty_num / certainty_denom)\n",
            "/usr/local/lib/python3.11/dist-packages/mlxtend/frequent_patterns/fpcommon.py:161: DeprecationWarning: DataFrames with non-bool types result in worse computationalperformance and their support might be discontinued in the future.Please use a DataFrame with bool type\n",
            "  warnings.warn(\n",
            "/usr/local/lib/python3.11/dist-packages/mlxtend/frequent_patterns/association_rules.py:186: RuntimeWarning: invalid value encountered in divide\n",
            "  cert_metric = np.where(certainty_denom == 0, 0, certainty_num / certainty_denom)\n",
            "/usr/local/lib/python3.11/dist-packages/mlxtend/frequent_patterns/fpcommon.py:161: DeprecationWarning: DataFrames with non-bool types result in worse computationalperformance and their support might be discontinued in the future.Please use a DataFrame with bool type\n",
            "  warnings.warn(\n",
            "/usr/local/lib/python3.11/dist-packages/mlxtend/frequent_patterns/association_rules.py:186: RuntimeWarning: invalid value encountered in divide\n",
            "  cert_metric = np.where(certainty_denom == 0, 0, certainty_num / certainty_denom)\n",
            "/usr/local/lib/python3.11/dist-packages/mlxtend/frequent_patterns/fpcommon.py:161: DeprecationWarning: DataFrames with non-bool types result in worse computationalperformance and their support might be discontinued in the future.Please use a DataFrame with bool type\n",
            "  warnings.warn(\n",
            "/usr/local/lib/python3.11/dist-packages/mlxtend/frequent_patterns/association_rules.py:186: RuntimeWarning: invalid value encountered in divide\n",
            "  cert_metric = np.where(certainty_denom == 0, 0, certainty_num / certainty_denom)\n",
            "/usr/local/lib/python3.11/dist-packages/mlxtend/frequent_patterns/fpcommon.py:161: DeprecationWarning: DataFrames with non-bool types result in worse computationalperformance and their support might be discontinued in the future.Please use a DataFrame with bool type\n",
            "  warnings.warn(\n",
            "/usr/local/lib/python3.11/dist-packages/mlxtend/frequent_patterns/association_rules.py:186: RuntimeWarning: invalid value encountered in divide\n",
            "  cert_metric = np.where(certainty_denom == 0, 0, certainty_num / certainty_denom)\n",
            "/usr/local/lib/python3.11/dist-packages/mlxtend/frequent_patterns/fpcommon.py:161: DeprecationWarning: DataFrames with non-bool types result in worse computationalperformance and their support might be discontinued in the future.Please use a DataFrame with bool type\n",
            "  warnings.warn(\n",
            "/usr/local/lib/python3.11/dist-packages/mlxtend/frequent_patterns/association_rules.py:186: RuntimeWarning: invalid value encountered in divide\n",
            "  cert_metric = np.where(certainty_denom == 0, 0, certainty_num / certainty_denom)\n",
            "/usr/local/lib/python3.11/dist-packages/mlxtend/frequent_patterns/fpcommon.py:161: DeprecationWarning: DataFrames with non-bool types result in worse computationalperformance and their support might be discontinued in the future.Please use a DataFrame with bool type\n",
            "  warnings.warn(\n"
          ]
        },
        {
          "output_type": "stream",
          "name": "stdout",
          "text": [
            "Cluster 38: 884 rules generated.\n",
            "\n",
            "Processing Cluster 39...\n",
            "min_support: 0.0008139229621010174\n",
            "Cluster 39: 70 rules generated.\n"
          ]
        },
        {
          "output_type": "stream",
          "name": "stderr",
          "text": [
            "/usr/local/lib/python3.11/dist-packages/mlxtend/frequent_patterns/association_rules.py:186: RuntimeWarning: invalid value encountered in divide\n",
            "  cert_metric = np.where(certainty_denom == 0, 0, certainty_num / certainty_denom)\n",
            "/usr/local/lib/python3.11/dist-packages/mlxtend/frequent_patterns/fpcommon.py:161: DeprecationWarning: DataFrames with non-bool types result in worse computationalperformance and their support might be discontinued in the future.Please use a DataFrame with bool type\n",
            "  warnings.warn(\n",
            "/usr/local/lib/python3.11/dist-packages/mlxtend/frequent_patterns/association_rules.py:186: RuntimeWarning: invalid value encountered in divide\n",
            "  cert_metric = np.where(certainty_denom == 0, 0, certainty_num / certainty_denom)\n"
          ]
        }
      ]
    },
    {
      "cell_type": "code",
      "source": [
        "import matplotlib.pyplot as plt\n",
        "\n",
        "# Initialize dictionary to store average metrics per cluster\n",
        "cluster_metrics = {}\n",
        "\n",
        "for cluster_id, data in cluster_results.items():\n",
        "    # Access the dictionary that is the second element of the tuple\n",
        "    rules = data[1][\"rules\"]\n",
        "\n",
        "    if rules is not None and not rules.empty:\n",
        "        avg_support = rules[\"support\"].mean()\n",
        "        avg_confidence = rules[\"confidence\"].mean()\n",
        "        avg_lift = rules[\"lift\"].mean()\n",
        "    else:\n",
        "        avg_support, avg_confidence, avg_lift = 0, 0, 0  # Handle empty clusters\n",
        "\n",
        "    cluster_metrics[cluster_id] = {\n",
        "        \"Avg Support\": avg_support,\n",
        "        \"Avg Confidence\": avg_confidence,\n",
        "        \"Avg Lift\": avg_lift\n",
        "    }\n",
        "\n",
        "# Convert dictionary to DataFrame for easier plotting\n",
        "metrics_df = pd.DataFrame.from_dict(cluster_metrics, orient=\"index\")\n",
        "print(metrics_df)\n",
        "\n",
        "# Plotting the metrics\n",
        "fig, ax = plt.subplots(figsize=(10, 6))\n",
        "\n",
        "# Plot each metric for every cluster\n",
        "metrics_df.plot(kind='bar', ax=ax)\n",
        "\n",
        "# Adding labels and title\n",
        "ax.set_ylabel('Average Metric Value')\n",
        "ax.set_title('Average Support, Confidence, and Lift per Cluster')\n",
        "plt.xticks(rotation=45, ha='right')\n",
        "plt.tight_layout()\n",
        "\n",
        "# Display the plot\n",
        "plt.show()\n"
      ],
      "metadata": {
        "id": "HEVQidHkX6ft",
        "outputId": "acb2655b-d7f8-486d-8b43-2e2dbb0c59a4",
        "colab": {
          "base_uri": "https://localhost:8080/",
          "height": 1000
        }
      },
      "execution_count": 77,
      "outputs": [
        {
          "output_type": "stream",
          "name": "stdout",
          "text": [
            "    Avg Support  Avg Confidence     Avg Lift\n",
            "0      0.009493        0.780112    59.377358\n",
            "1      0.007259        0.731707    64.405405\n",
            "2      0.006641        0.721077    67.198113\n",
            "3      0.016129        0.794415    36.507463\n",
            "5      0.008049        0.764101    66.387870\n",
            "6      0.000218        0.569270  1572.086034\n",
            "7      0.005999        0.698293    68.764898\n",
            "8      0.016393        0.642325    17.363636\n",
            "9      0.010870        0.776648    50.903226\n",
            "10     0.013709        0.677830    26.304348\n",
            "11     0.016949        0.663693    19.315789\n",
            "12     0.006451        0.808970    97.615385\n",
            "13     0.011765        0.721497    37.654545\n",
            "14     0.012821        0.854069    55.234783\n",
            "15     0.009912        0.504956     1.000000\n",
            "16     0.007874        0.702362    51.400000\n",
            "17     0.015319        0.599571    13.500000\n",
            "18     0.007299        0.829231    90.209349\n",
            "19     0.008996        0.743441    56.434783\n",
            "20     0.012821        0.841897    53.335938\n",
            "21     0.007156        0.623523    35.064516\n",
            "22     0.006324        0.663709    53.338462\n",
            "23     0.019608        0.773756    27.923077\n",
            "24     0.015499        0.621412    16.230769\n",
            "25     0.016393        0.778089    33.926829\n",
            "26     0.012658        0.756138    40.469880\n",
            "27     0.018182        0.672727    19.000000\n",
            "28     0.010417        0.706790    39.703704\n",
            "29     0.000070        0.333033  1812.672159\n",
            "30     0.023043        0.754419    22.375000\n",
            "31     0.019958        0.772584    27.785714\n",
            "32     0.008772        0.772018    62.020000\n",
            "33     0.015152        0.609457    14.448276\n",
            "34     0.015625        0.838096    43.276316\n",
            "35     0.028035        0.829990    23.750000\n",
            "36     0.017241        0.779381    32.408163\n",
            "37     0.018145        0.734591    26.258065\n",
            "38     0.006697        0.887579   116.269231\n",
            "39     0.011765        0.590588    15.400000\n"
          ]
        },
        {
          "output_type": "display_data",
          "data": {
            "text/plain": [
              "<Figure size 1000x600 with 1 Axes>"
            ],
            "image/png": "[encoded data removed]"
          },
          "metadata": {}
        }
      ]
    },
    {
      "cell_type": "markdown",
      "source": [
        "# Using item-based CF for rules mining"
      ],
      "metadata": {
        "id": "T2N5TnA2kZdm"
      }
    },
    {
      "cell_type": "markdown",
      "source": [],
      "metadata": {
        "id": "yS_Pq9QcdKTy"
      }
    },
    {
      "cell_type": "code",
      "source": [
        "import pandas as pd\n",
        "import numpy as np\n",
        "from scipy.spatial.distance import pdist, squareform\n",
        "\n",
        "transactions = transactions\n",
        "\n",
        "\n",
        "def calculate_jaccard_similarity(transaction_matrix):\n",
        "    \"\"\"Calculate Jaccard similarity between all item pairs\"\"\"\n",
        "    binary_matrix = (transaction_matrix > 0).astype(int)\n",
        "    jaccard_dist = pdist(binary_matrix.T, metric='jaccard')\n",
        "    jaccard_sim = 1 - squareform(jaccard_dist)\n",
        "    return pd.DataFrame(jaccard_sim, index=transaction_matrix.columns, columns=transaction_matrix.columns)\n",
        "\n",
        "def calculate_item_means(transaction_matrix):\n",
        "    \"\"\"Calculate mean occurrence (probability) for each item\"\"\"\n",
        "    return transaction_matrix.mean()\n",
        "\n",
        "def calculate_recommendation_score(transaction_items, candidate_item, item_similarity_df, transaction_matrix):\n",
        "    \"\"\"\n",
        "    Calculate recommendation score using adjusted formula for binary ratings:\n",
        "    score(u,i) = Σj similarity(i,j)(r(u,j) - r̄j) / Σj |similarity(i,j)| + r̄i\n",
        "    where:\n",
        "    - r(u,j) is 1 if item j is in transaction, 0 otherwise\n",
        "    - r̄j is the mean occurrence of item j across all transactions\n",
        "    - r̄i is the mean occurrence of candidate item i\n",
        "    \"\"\"\n",
        "    # Get mean occurrences for all items\n",
        "    item_means = calculate_item_means(transaction_matrix)\n",
        "\n",
        "    numerator = 0\n",
        "    denominator = 0\n",
        "\n",
        "    # Calculate the weighted sum of deviations from mean\n",
        "    for item in transaction_items:\n",
        "        similarity = item_similarity_df.loc[candidate_item, item]\n",
        "        # r(u,j) is 1 since item is in transaction\n",
        "        rating_deviation = 1 - item_means[item]  # (r(u,j) - r̄j)\n",
        "        numerator += similarity * rating_deviation\n",
        "        denominator += abs(similarity)\n",
        "\n",
        "    # Add the candidate item's mean occurrence\n",
        "    mean_i = item_means[candidate_item]\n",
        "\n",
        "    if denominator != 0:\n",
        "        score = (numerator / denominator) + mean_i\n",
        "    else:\n",
        "        score = mean_i\n",
        "\n",
        "    return score\n",
        "\n",
        "def generate_transaction_rules(transactions):\n",
        "    # Create binary transaction matrix\n",
        "    item_list = sorted(set([item for sublist in transactions for item in sublist]))\n",
        "    transaction_matrix = pd.DataFrame(0, index=range(len(transactions)), columns=item_list)\n",
        "    for idx, transaction in enumerate(transactions):\n",
        "        for item in transaction:\n",
        "            transaction_matrix.at[idx, item] = 1\n",
        "\n",
        "    # Calculate item similarity\n",
        "    item_similarity_df = calculate_jaccard_similarity(transaction_matrix)\n",
        "\n",
        "    # Generate recommendations\n",
        "    recommendations = []\n",
        "\n",
        "    for transaction in transactions:\n",
        "        scores = {}\n",
        "\n",
        "        # Calculate scores for all possible items not in transaction\n",
        "        for candidate_item in item_list:\n",
        "            if candidate_item not in transaction:\n",
        "                score = calculate_recommendation_score(\n",
        "                    transaction,\n",
        "                    candidate_item,\n",
        "                    item_similarity_df,\n",
        "                    transaction_matrix\n",
        "                )\n",
        "                scores[candidate_item] = score\n",
        "\n",
        "        if scores:\n",
        "            # Get best recommendation\n",
        "            best_item = max(scores.items(), key=lambda x: x[1])\n",
        "\n",
        "            recommendation = {\n",
        "                'transaction': transaction,\n",
        "                'recommended_item': best_item[0],\n",
        "                'score': best_item[1]\n",
        "            }\n",
        "            recommendations.append(recommendation)\n",
        "\n",
        "    return pd.DataFrame(recommendations)\n",
        "\n",
        "\n",
        "# Usage\n",
        "rules_df = generate_transaction_rules(transactions)\n",
        "\n"
      ],
      "metadata": {
        "id": "rK22Gt1sd1SM"
      },
      "execution_count": null,
      "outputs": []
    },
    {
      "cell_type": "code",
      "source": [
        "rules_df.head()"
      ],
      "metadata": {
        "id": "FWlxHBZO6ECV"
      },
      "execution_count": null,
      "outputs": []
    },
    {
      "cell_type": "code",
      "source": [
        "# Function to calculate support, confidence, lift, and more\n",
        "def calculate_metrics(rule, all_transactions):\n",
        "    antecedent = set(rule['transaction'])\n",
        "    consequent = set([rule['recommended_item']])\n",
        "\n",
        "    # Calculate support\n",
        "    support_antecedent = sum(1 for transaction in all_transactions if antecedent.issubset(set(transaction))) / len(all_transactions)\n",
        "    support_consequent = sum(1 for transaction in all_transactions if consequent.issubset(set(transaction))) / len(all_transactions)\n",
        "    support_rule = sum(1 for transaction in all_transactions if antecedent.issubset(set(transaction)) and consequent.issubset(set(transaction))) / len(all_transactions)\n",
        "\n",
        "    # Calculate confidence\n",
        "    confidence = support_rule / support_antecedent if support_antecedent != 0 else 0\n",
        "\n",
        "    # Calculate lift\n",
        "    lift = confidence / support_consequent if support_consequent != 0 else 0\n",
        "\n",
        "    # Calculate leverage\n",
        "    expected_support = support_antecedent * support_consequent\n",
        "    leverage = support_rule - expected_support\n",
        "\n",
        "    # Calculate conviction\n",
        "    conviction = (1 - support_consequent) / (1 - confidence) if confidence < 1 else np.inf\n",
        "\n",
        "    return {\n",
        "        'support_antecedent': support_antecedent,\n",
        "        'support_consequent': support_consequent,\n",
        "        'support_rule': support_rule,\n",
        "        'confidence': confidence,\n",
        "        'lift': lift,\n",
        "        'leverage': leverage,\n",
        "        'conviction': conviction\n",
        "    }\n",
        "\n",
        "# Calculate metrics for each rule\n",
        "metrics = []\n",
        "for _, rule in rules_df.iterrows():\n",
        "    rule_metrics = calculate_metrics(rule, transactions)\n",
        "    metrics.append(rule_metrics)\n",
        "\n",
        "# Add metrics to the DataFrame\n",
        "metrics_df = pd.DataFrame(metrics)\n",
        "\n",
        "# Combine the original rules with the calculated metrics\n",
        "df_rules = pd.concat([rules_df, metrics_df], axis=1)\n",
        "\n",
        "print(df_rules)"
      ],
      "metadata": {
        "id": "NHiRhE7LL1hJ"
      },
      "execution_count": null,
      "outputs": []
    },
    {
      "cell_type": "code",
      "source": [
        "# Sort the rules by average rating and select the top 100\n",
        "top_100_rules = df_rules.sort_values(by='conviction', ascending=False).head(100)\n",
        "\n",
        "# Display the top 100 rules\n",
        "print(top_100_rules[['lift', 'conviction']])"
      ],
      "metadata": {
        "id": "Qwi65LG_6DPz"
      },
      "execution_count": null,
      "outputs": []
    },
    {
      "cell_type": "code",
      "source": [
        "print(top_100_rules[['antecedents', 'consequents', 'lift', 'rating', 'confidence', 'support']])\n"
      ],
      "metadata": {
        "id": "Do-1UYX7zrZo"
      },
      "execution_count": null,
      "outputs": []
    },
    {
      "cell_type": "code",
      "source": [
        "# perform item-based CF for rule mining\n",
        "import numpy as np\n",
        "from sklearn.metrics.pairwise import cosine_similarity\n",
        "\n",
        "def compute_item_ratings(invoice_items, item_sim_df):\n",
        "    \"\"\"\n",
        "    Calculate predicted rating for items not in the invoice.\n",
        "    Rating(Item X) = sum(sim(Item X, item_in_invoice)) / sum(similarities)\n",
        "    \"\"\"\n",
        "    scores = {}\n",
        "    norm_factor = 0\n",
        "\n",
        "    for item in invoice_items:\n",
        "        similar_items = item_sim_df[item].drop(index=invoice_items, errors=\"ignore\")  # Remove existing items\n",
        "        for sim_item, similarity in similar_items.items():\n",
        "            scores[sim_item] = scores.get(sim_item, 0) + similarity  # Aggregate similarity scores\n",
        "            norm_factor += similarity  # Normalize by sum of similarities\n",
        "\n",
        "    if norm_factor == 0:\n",
        "        return {}\n",
        "\n",
        "    # Normalize scores\n",
        "    for item in scores:\n",
        "        scores[item] /= norm_factor\n",
        "\n",
        "    return scores"
      ],
      "metadata": {
        "id": "cY8zXVcCWeJF"
      },
      "execution_count": null,
      "outputs": []
    },
    {
      "cell_type": "code",
      "source": [
        "from tqdm.notebook import tqdm\n",
        "threshold = 0.2  # Min rating for an item to be considered\n",
        "\n",
        "rules = []\n",
        "for invoice in tqdm(df_onehot.index,desc=\"Processing Raiting\"):\n",
        "    existing_items = df_onehot.columns[df_onehot.loc[invoice] == 1].tolist()\n",
        "    predicted_ratings = compute_item_ratings(existing_items, item_sim_df)\n",
        "\n",
        "    # Select items with rating above threshold\n",
        "    recommended_items = {item for item, score in predicted_ratings.items() if score > threshold}\n",
        "\n",
        "    if recommended_items:\n",
        "        rules.append((set(existing_items), recommended_items))  # Format: {A, B, C} → {D, F}\n",
        "\n",
        "rules_df = pd.DataFrame(rules, columns=[\"Antecedent\", \"Consequent\"])\n"
      ],
      "metadata": {
        "id": "iSw9rfrObaDR"
      },
      "execution_count": null,
      "outputs": []
    },
    {
      "cell_type": "code",
      "source": [
        "# compute Confidence and Lift\n",
        "def compute_rule_metrics(rules_df, df_onehot):\n",
        "    total_invoices = len(df_onehot)\n",
        "    metrics = []\n",
        "\n",
        "    for _, row in rules_df.iterrows():\n",
        "        antecedent = row[\"Antecedent\"]\n",
        "        consequent = row[\"Consequent\"]\n",
        "\n",
        "        support_A = (df_onehot[list(antecedent)].sum(axis=1) == len(antecedent)).mean()\n",
        "        support_B = (df_onehot[list(consequent)].sum(axis=1) == len(consequent)).mean()\n",
        "        support_A_B = ((df_onehot[list(antecedent)].sum(axis=1) == len(antecedent)) &\n",
        "                       (df_onehot[list(consequent)].sum(axis=1) == len(consequent))).mean()\n",
        "\n",
        "        confidence = support_A_B / support_A if support_A > 0 else 0\n",
        "        lift = confidence / support_B if support_B > 0 else 0\n",
        "        interestingness = confidence * lift  # Tradeoff metric\n",
        "\n",
        "        metrics.append((antecedent, consequent, confidence, lift, interestingness))\n",
        "\n",
        "    return pd.DataFrame(metrics, columns=[\"Antecedent\", \"Consequent\", \"Confidence\", \"Lift\", \"Interestingness\"])\n",
        "\n",
        "rules_eval_df = compute_rule_metrics(rules_df, df_onehot)\n",
        "\n",
        "\n"
      ],
      "metadata": {
        "id": "BhFRbIQYXfNu"
      },
      "execution_count": null,
      "outputs": []
    },
    {
      "cell_type": "code",
      "source": [
        "# Select Top 100 Most Interesting Rules\n",
        "top_100_rules = rules_eval_df.sort_values(by=\"Interestingness\", ascending=False).head(100)\n",
        "print(top_100_rules)"
      ],
      "metadata": {
        "id": "1G8jxc4mXGN5"
      },
      "execution_count": null,
      "outputs": []
    }
  ],
  "metadata": {
    "language_info": {
      "name": "python"
    },
    "colab": {
      "provenance": []
    },
    "kernelspec": {
      "name": "python3",
      "display_name": "Python 3"
    }
  },
  "nbformat": 4,
  "nbformat_minor": 0
}