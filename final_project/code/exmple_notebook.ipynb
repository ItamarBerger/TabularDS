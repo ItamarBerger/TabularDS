{
  "cells": [
    {
      "cell_type": "markdown",
      "metadata": {
        "id": "fX_NCznlNHye"
      },
      "source": [
        "# preprocessing"
      ]
    },
    {
      "cell_type": "code",
      "source": [
        "!rm -rf TabularDS  # Remove the existing directory\n",
        "!git clone https://github.com/ItamarBerger/TabularDS\n"
      ],
      "metadata": {
        "colab": {
          "base_uri": "https://localhost:8080/"
        },
        "id": "pi_KucCvRDGx",
        "outputId": "abbd5e4d-6911-4791-8394-e1430eac1b23"
      },
      "execution_count": 115,
      "outputs": [
        {
          "output_type": "stream",
          "name": "stdout",
          "text": [
            "Cloning into 'TabularDS'...\n",
            "remote: Enumerating objects: 491, done.\u001b[K\n",
            "remote: Counting objects: 100% (104/104), done.\u001b[K\n",
            "remote: Compressing objects: 100% (93/93), done.\u001b[K\n",
            "remote: Total 491 (delta 36), reused 33 (delta 11), pack-reused 387 (from 2)\u001b[K\n",
            "Receiving objects: 100% (491/491), 36.65 MiB | 18.03 MiB/s, done.\n",
            "Resolving deltas: 100% (208/208), done.\n",
            "Updating files: 100% (19/19), done.\n"
          ]
        }
      ]
    },
    {
      "cell_type": "code",
      "source": [
        "import pandas as pd\n",
        "transactions = pd.read_csv('/content/TabularDS/final_project/data/movies_with_clusters.csv')\n",
        "# min_support = 12 / len(transactions)\n",
        "min_support = 0.35\n",
        "transactions = transactions[0:20000]"
      ],
      "metadata": {
        "id": "YjH7ZbGk9N3R"
      },
      "execution_count": 116,
      "outputs": []
    },
    {
      "cell_type": "markdown",
      "source": [
        "#Apriori for rule mining"
      ],
      "metadata": {
        "id": "rU_fNB6EUTNP"
      }
    },
    {
      "cell_type": "code",
      "source": [
        "# data['InvoiceDate'] = pd.to_datetime(data['InvoiceDate'])\n",
        "# data.dropna(subset=['InvoiceNo', 'Description'], inplace=True)\n",
        "\n",
        "# transactions = data.groupby('CustomerID')['Description'].apply(list).tolist()\n",
        "# print(f\"number of transactions is: {len(transactions)}\")"
      ],
      "metadata": {
        "id": "2tLlnwOvabf-"
      },
      "execution_count": 117,
      "outputs": []
    },
    {
      "cell_type": "code",
      "source": [
        "import pandas as pd\n",
        "from mlxtend.preprocessing import TransactionEncoder\n",
        "from mlxtend.frequent_patterns import fpgrowth, association_rules\n",
        "\n",
        "\n",
        "frequent_itemsets = fpgrowth(transactions, min_support=min_support, use_colnames=True)\n",
        "rules = association_rules(frequent_itemsets, metric=\"lift\", min_threshold=1.0)"
      ],
      "metadata": {
        "id": "Zrk63WVodLtC"
      },
      "execution_count": 118,
      "outputs": []
    },
    {
      "cell_type": "markdown",
      "source": [
        "# Baseline apriori results"
      ],
      "metadata": {
        "id": "Ktn3YvD1eF1g"
      }
    },
    {
      "cell_type": "code",
      "source": [
        "if rules:\n",
        "  print(f\"number of rules is: {len(rules)}\")\n",
        "  print(rules[0:10])"
      ],
      "metadata": {
        "id": "4cWmUeqEqIiZ"
      },
      "execution_count": null,
      "outputs": []
    },
    {
      "cell_type": "code",
      "source": [
        "import numpy as np\n",
        "\n",
        "# Calculate the average support, confidence, and lift from the rules DataFrame\n",
        "avg_support = np.mean(rules['support'])\n",
        "avg_confidence = np.mean(rules['confidence'])\n",
        "avg_lift = np.mean(rules['lift'])\n",
        "\n",
        "# Print the metrics\n",
        "print(f\"\\nMetrics: Support average: {avg_support:.4f}, Confidence average: {avg_confidence:.4f}, Lift average: {avg_lift:.4f}\")\n",
        "\n",
        "# Store the rules and itemsets for later use\n",
        "original_rules = rules\n",
        "original_itemsets = frequent_itemsets\n"
      ],
      "metadata": {
        "colab": {
          "base_uri": "https://localhost:8080/"
        },
        "id": "pGoVhVLUBi0Y",
        "outputId": "f6241185-f85b-442b-9211-7db39bd58917"
      },
      "execution_count": 120,
      "outputs": [
        {
          "output_type": "stream",
          "name": "stdout",
          "text": [
            "\n",
            "Metrics: Support average: 0.3542, Confidence average: 0.7334, Lift average: 1.5166\n"
          ]
        }
      ]
    },
    {
      "cell_type": "markdown",
      "source": [
        "## Visualize top rules\n",
        "### (sorted by lift)"
      ],
      "metadata": {
        "id": "D3Fsv4waeWTA"
      }
    },
    {
      "cell_type": "code",
      "source": [
        "import matplotlib.pyplot as plt\n",
        "import networkx as nx\n",
        "from mlxtend.frequent_patterns import apriori, association_rules\n",
        "def plot_topk_rules_in_graph(rules, frequent_itemsets, k=10):\n",
        "\n",
        "    # Create a directed graph\n",
        "    G = nx.DiGraph()\n",
        "    narrow_rules = rules.sort_values(by='lift', ascending=False).head(k)\n",
        "    # Add nodes and directed edges\n",
        "    for _, rule in narrow_rules.iterrows():\n",
        "        antecedent = ', '.join(list(rule['antecedents']))\n",
        "        consequent = ', '.join(list(rule['consequents']))\n",
        "\n",
        "        # Add a directed edge from antecedent to consequent\n",
        "        G.add_edge(antecedent, consequent)\n",
        "\n",
        "    # Draw the directed graph\n",
        "    plt.figure(figsize=(18, 13))\n",
        "    pos = nx.spring_layout(G, k=0.5, iterations=k)  # Layout for the graph\n",
        "\n",
        "    # Draw the nodes and edges\n",
        "    nx.draw_networkx_nodes(G, pos, node_size=150, node_color='lightblue', alpha=0.7)\n",
        "    nx.draw_networkx_edges(G, pos, width=1.0, alpha=0.5, arrowstyle='->', arrowsize=3)\n",
        "    nx.draw_networkx_labels(G, pos, font_size=7, font_color='black')\n",
        "\n",
        "    # Add edge labels (optional, if you want to display lift, confidence, or support)\n",
        "    # edge_labels = nx.get_edge_attributes(G, 'weight')\n",
        "    # nx.draw_networkx_edge_labels(G, pos, edge_labels=edge_labels)\n",
        "\n",
        "    plt.title(\"Association Rules Directed Graph\")\n",
        "    plt.axis('off')\n",
        "    plt.show()\n",
        "\n",
        "plot_topk_rules_in_graph(rules, frequent_itemsets)"
      ],
      "metadata": {
        "id": "4pHXBq27f-Lb",
        "colab": {
          "base_uri": "https://localhost:8080/",
          "height": 1000
        },
        "outputId": "0d8d0d33-d39f-4200-f849-5dbf8dfb1f48"
      },
      "execution_count": 121,
      "outputs": [
        {
          "output_type": "display_data",
          "data": {
            "text/plain": [
              "<Figure size 1800x1300 with 1 Axes>"
            ],
            "image/png": "[encoded data removed]"
          },
          "metadata": {}
        }
      ]
    },
    {
      "cell_type": "code",
      "source": [
        "import seaborn as sns\n",
        "import matplotlib.pyplot as plt\n",
        "\n",
        "def plot_metrics_boxplots(rules):\n",
        "  if not rules.empty:\n",
        "\n",
        "\n",
        "      print(f\"max lift value is {rules['lift'].max():.4f}\")\n",
        "      print(f\"max confidence value is {rules['confidence'].max():.4f}\")\n",
        "\n",
        "      fig, axes = plt.subplots(1, 2, figsize=(8, 5))\n",
        "\n",
        "      # plot Confidence\n",
        "      sns.boxplot(data=rules['confidence'], ax=axes[0])\n",
        "      axes[0].set_title('Confidence')\n",
        "      axes[0].set_ylabel('Confidence')\n",
        "\n",
        "      # plot Lift\n",
        "      sns.boxplot(data=rules['lift'], ax=axes[1])\n",
        "      axes[1].set_title('Lift')\n",
        "      axes[1].set_ylabel('Lift')\n",
        "\n",
        "      # show plot\n",
        "      plt.tight_layout()\n",
        "      plt.show()\n",
        "  else:\n",
        "      print(\"No rules to plot.\")\n",
        "\n",
        "\n",
        "\n",
        "plot_metrics_boxplots(rules)\n"
      ],
      "metadata": {
        "colab": {
          "base_uri": "https://localhost:8080/",
          "height": 542
        },
        "id": "eXnxToBlk4F-",
        "outputId": "b8433479-76e6-41fd-a72a-2d69ab707df6"
      },
      "execution_count": 122,
      "outputs": [
        {
          "output_type": "stream",
          "name": "stdout",
          "text": [
            "max lift value is 1.5166\n",
            "max confidence value is 0.7584\n"
          ]
        },
        {
          "output_type": "display_data",
          "data": {
            "text/plain": [
              "<Figure size 800x500 with 2 Axes>"
            ],
            "image/png": "[encoded data removed]"
          },
          "metadata": {}
        }
      ]
    },
    {
      "cell_type": "markdown",
      "source": [
        "# Cluster items + Apriori\n"
      ],
      "metadata": {
        "id": "-qqhjLNWXnsL"
      }
    },
    {
      "cell_type": "code",
      "source": [
        "from sklearn.cluster import KMeans\n",
        "\n",
        "\n",
        "def add_cluster_users_col(num_clusters, transactions_matrix):\n",
        "    kmeans = KMeans(n_clusters=num_clusters, random_state=42)\n",
        "    user_clusters = kmeans.fit_predict(transactions_matrix)\n",
        "    transactions_matrix['Cluster'] = user_clusters\n",
        "\n",
        "\n",
        "num_clusters = 50\n",
        "add_cluster_users_col(num_clusters,transactions)\n",
        "df = transactions"
      ],
      "metadata": {
        "id": "FYi9Y95G89ZH"
      },
      "execution_count": 123,
      "outputs": []
    },
    {
      "cell_type": "code",
      "source": [
        "import seaborn as sns\n",
        "import matplotlib.pyplot as plt\n",
        "\n",
        "# Get the distribution of clusters (as percentages only)\n",
        "cluster_percentages = (df['Cluster'].value_counts(normalize=True) * 100).sort_index()\n",
        "\n",
        "# Plot the distribution using seaborn barplot\n",
        "plt.figure(figsize=(10, 6))\n",
        "sns.barplot(x=cluster_percentages.index, y=cluster_percentages.values, palette='viridis')\n",
        "\n",
        "# Add labels and title\n",
        "plt.title('Distribution of Items Across Clusters (Percentage)', fontsize=16)\n",
        "plt.xlabel('Cluster', fontsize=12)\n",
        "plt.ylabel('Percentage of Items (%)', fontsize=12)\n",
        "\n",
        "# Remove x-tick labels (to avoid showing the cluster index)\n",
        "plt.xticks([])\n",
        "\n",
        "# Show the plot\n",
        "plt.tight_layout()\n",
        "plt.show()\n"
      ],
      "metadata": {
        "id": "ppwiScnU03tS",
        "outputId": "af30f19b-a46d-4586-eced-ee181c8911df",
        "colab": {
          "base_uri": "https://localhost:8080/",
          "height": 694
        }
      },
      "execution_count": 124,
      "outputs": [
        {
          "output_type": "stream",
          "name": "stderr",
          "text": [
            "<ipython-input-124-97f26412de46>:9: FutureWarning: \n",
            "\n",
            "Passing `palette` without assigning `hue` is deprecated and will be removed in v0.14.0. Assign the `x` variable to `hue` and set `legend=False` for the same effect.\n",
            "\n",
            "  sns.barplot(x=cluster_percentages.index, y=cluster_percentages.values, palette='viridis')\n"
          ]
        },
        {
          "output_type": "display_data",
          "data": {
            "text/plain": [
              "<Figure size 1000x600 with 1 Axes>"
            ],
            "image/png": "[encoded data removed]"
          },
          "metadata": {}
        }
      ]
    },
    {
      "cell_type": "code",
      "source": [
        "from sklearn.metrics import silhouette_score\n",
        "\n",
        "score=silhouette_score(df, df['Cluster'], metric='hamming')\n",
        "print(f\"silhouette score of clustering is: {score}\")\n"
      ],
      "metadata": {
        "id": "AJib8X0imwm1"
      },
      "execution_count": null,
      "outputs": []
    },
    {
      "cell_type": "code",
      "source": [
        "\n",
        "import warnings\n",
        "\n",
        "# Suppress specific warnings\n",
        "warnings.filterwarnings(\"ignore\", category=RuntimeWarning, message=\".*invalid value encountered in divide*\")\n",
        "warnings.filterwarnings(\"ignore\", category=DeprecationWarning, message=\".*DataFrames with non-bool types result in worse computationalperformance*\")\n",
        "\n",
        "from mlxtend.frequent_patterns import fpgrowth, association_rules\n",
        "import numpy as np\n",
        "\n",
        "# Function to compute global support\n",
        "import numpy as np\n",
        "\n",
        "def calculate_global_support(itemset, full_data):\n",
        "    \"\"\"Calculate global support of an itemset across the entire transactions dataset efficiently.\"\"\"\n",
        "    itemset = list(itemset)  # Ensure itemset is a list\n",
        "    relevant_rows = full_data[itemset].sum(axis=1) == len(itemset)  # Check if all items are present\n",
        "    return relevant_rows.mean()  # Equivalent to sum(relevant_rows) / len(full_data)\n",
        "\n",
        "\n",
        "# Function to process a single cluster\n",
        "def process_cluster(cluster_id, df, full_data, min_support):\n",
        "    print(f\"\\nProcessing Cluster {cluster_id}...\")\n",
        "\n",
        "    # Extract transactions of the current cluster\n",
        "    cluster_data = df[df['Cluster'] == cluster_id].drop(columns=['Cluster'])\n",
        "\n",
        "    # Adjust min_support based on cluster size\n",
        "    # scale_k = min_support * np.log(len(full_data))\n",
        "    # min_support = scale_k / np.log(len(cluster_data)) if len(cluster_data) > 0 else 0\n",
        "    # scale_k = min_support / np.log(len(full_data))\n",
        "    # min_support = scale_k * np.log(len(cluster_data)) if len(cluster_data) > 0 else 0\n",
        "\n",
        "    min_support = 0.35\n",
        "\n",
        "    print(f\"min_support: {min_support:.5f}\")\n",
        "\n",
        "    # Run FPGrowth\n",
        "    frequent_itemsets = fpgrowth(cluster_data, min_support=min_support, use_colnames=True)\n",
        "    if frequent_itemsets.empty:\n",
        "        print(f\"No frequent itemsets found in Cluster {cluster_id}.\")\n",
        "        return None\n",
        "\n",
        "    # Generate association rules\n",
        "    rules = association_rules(frequent_itemsets, metric=\"lift\", min_threshold=1.0)\n",
        "\n",
        "\n",
        "\n",
        "    print(f\"Cluster {cluster_id}: {len(rules)} rules generated.\")\n",
        "\n",
        "    # plot_topk_rules_in_graph(rules, frequent_itemsets, k=10)\n",
        "\n",
        "    return cluster_id, {\"frequent_itemsets\": frequent_itemsets, \"rules\": rules}\n",
        "\n",
        "def find_clusters_rules(df, min_support):\n",
        "  # Process clusters sequentially (without parallel computation)\n",
        "  cluster_results = {}\n",
        "  # Loop through all unique cluster IDs\n",
        "  for cluster_id in sorted(df['Cluster'].unique()):\n",
        "      if df['Cluster'].value_counts()[cluster_id] < 30:\n",
        "          cluster_results[cluster_id] = cluster_id, {\"frequent_itemsets\": None, \"rules\": None}\n",
        "          continue\n",
        "      cluster_results[cluster_id] = process_cluster(cluster_id, df, df, min_support)\n",
        "  return cluster_results\n",
        "\n",
        "# pass the min support determined for the **baseline** whole dataset rule generation approach (will be scaled to match the smaller clusters)\n",
        "cluster_results = find_clusters_rules(transactions, 0.1)"
      ],
      "metadata": {
        "id": "dOb8TpaDX2Cg"
      },
      "execution_count": null,
      "outputs": []
    },
    {
      "cell_type": "code",
      "source": [],
      "metadata": {
        "id": "MC01ggHHECG9"
      },
      "execution_count": null,
      "outputs": []
    },
    {
      "cell_type": "code",
      "source": [
        "# Add diagnostic prints for a few rules\n",
        "for index, row in rules.iloc[:10].iterrows():\n",
        "    antecedent = set(row[\"antecedents\"])\n",
        "    consequent = set(row[\"consequents\"])\n",
        "    rule = antecedent.union(consequent)\n",
        "\n",
        "    # Calculate and print the components\n",
        "    ant_supp = calculate_global_support(antecedent, transactions)\n",
        "    cons_supp = calculate_global_support(consequent, transactions)\n",
        "    rule_supp = calculate_global_support(rule, transactions)\n",
        "\n",
        "    confidence = rule_supp / ant_supp if ant_supp > 0 else 0\n",
        "    lift = confidence / cons_supp if cons_supp > 0 else 0\n",
        "\n",
        "    print(f\"Rule: {antecedent} → {consequent}\")\n",
        "    print(f\"Antecedent support: {ant_supp:.8f}\")\n",
        "    print(f\"Consequent support: {cons_supp:.8f}\")\n",
        "    print(f\"Rule support: {rule_supp:.8f}\")\n",
        "    print(f\"Confidence: {confidence:.8f}\")\n",
        "    print(f\"Lift: {lift:.2f}\")\n",
        "    print(\"-\" * 50)"
      ],
      "metadata": {
        "id": "8ebsQDgqJcZa"
      },
      "execution_count": null,
      "outputs": []
    },
    {
      "cell_type": "code",
      "source": [
        "# Compute global metrics for each rule\n",
        "\n",
        "\n",
        "for _, cluster_data in cluster_results.items():\n",
        "  if cluster_data is None:\n",
        "    continue\n",
        "  rules = cluster_data [1][\"rules\"]\n",
        "  if rules is None:\n",
        "    continue\n",
        "  # Calculate global support for antecedents\n",
        "  rules[\"global_antecedent_support\"] = rules[\"antecedents\"].apply(\n",
        "      lambda x: calculate_global_support(set(x), transactions)\n",
        "  )\n",
        "\n",
        "  # Calculate global support for consequents\n",
        "  rules[\"global_consequent_support\"] = rules[\"consequents\"].apply(\n",
        "      lambda x: calculate_global_support(set(x), transactions)\n",
        "  )\n",
        "\n",
        "  # Calculate global support for antecedent + consequent together\n",
        "  rules[\"global_rule_support\"] = rules.apply(\n",
        "      lambda row: calculate_global_support(\n",
        "          set(row[\"antecedents\"]).union(set(row[\"consequents\"])),\n",
        "          transactions\n",
        "      ),\n",
        "      axis=1\n",
        "  )\n",
        "\n",
        "  # Calculate global confidence\n",
        "  rules[\"global_confidence\"] = rules[\"global_rule_support\"] / rules[\"global_antecedent_support\"]\n",
        "\n",
        "  # Calculate global lift\n",
        "  rules[\"global_lift\"] = rules[\"global_confidence\"] / rules[\"global_consequent_support\"]\n"
      ],
      "metadata": {
        "id": "3UFHlw3_8-oK"
      },
      "execution_count": null,
      "outputs": []
    },
    {
      "cell_type": "code",
      "source": [
        "import matplotlib.pyplot as plt\n",
        "\n",
        "# Initialize dictionary to store average metrics per cluster\n",
        "cluster_metrics = {}\n",
        "\n",
        "for cluster_id, data in cluster_results.items():\n",
        "    # Access the dictionary that is the second element of the tuple\n",
        "    rules = data[1][\"rules\"]\n",
        "\n",
        "    if rules is not None and not rules.empty:\n",
        "        avg_support = rules[\"global_rule_support\"].mean()\n",
        "        avg_confidence = rules[\"global_confidence\"].mean()\n",
        "        avg_lift = rules[\"global_lift\"].mean()\n",
        "    else:\n",
        "        avg_support, avg_confidence, avg_lift = 0, 0, 0  # Handle empty clusters\n",
        "\n",
        "    cluster_metrics[cluster_id] = {\n",
        "        \"Avg Support\": avg_support,\n",
        "        \"Avg Confidence\": avg_confidence,\n",
        "        \"Avg Lift\": avg_lift\n",
        "    }\n",
        "\n",
        "# Convert dictionary to DataFrame for easier plotting\n",
        "metrics_df = pd.DataFrame.from_dict(cluster_metrics, orient=\"index\")\n",
        "print(metrics_df)"
      ],
      "metadata": {
        "id": "HEVQidHkX6ft"
      },
      "execution_count": null,
      "outputs": []
    },
    {
      "cell_type": "code",
      "source": [
        "import seaborn as sns\n",
        "import matplotlib.pyplot as plt\n",
        "import pandas as pd\n",
        "\n",
        "# Initialize lists to store data for plotting\n",
        "cluster_metrics_list = []\n",
        "overall_metrics = {\n",
        "    'Lift': [],\n",
        "    'Confidence': [],\n",
        "    'Support': [],\n",
        "    'All Clusters': [],\n",
        "    'Original Rules': []\n",
        "}\n",
        "\n",
        "# Extract the metrics for each cluster\n",
        "for cluster_id, data in cluster_results.items():\n",
        "    rules = data[1][\"rules\"]\n",
        "    if rules is not None and not rules.empty:\n",
        "        avg_support = rules[\"global_rule_support\"].mean()\n",
        "        avg_confidence = rules[\"global_confidence\"].mean()\n",
        "        avg_lift = rules[\"global_lift\"].mean()\n",
        "    else:\n",
        "        avg_support, avg_confidence, avg_lift = 0, 0, 0  # Handle empty clusters\n",
        "\n",
        "    # Add metrics to the list for each cluster\n",
        "    cluster_metrics_list.append({\n",
        "        'Cluster': cluster_id,\n",
        "        'Avg Support': avg_support,\n",
        "        'Avg Confidence': avg_confidence,\n",
        "        'Avg Lift': avg_lift\n",
        "    })\n",
        "\n",
        "# Calculate the metrics for all clusters combined\n",
        "all_rules_df = pd.concat([data[1][\"rules\"] for cluster_id, data in cluster_results.items() if data[1][\"rules\"] is not None], ignore_index=True)\n",
        "\n",
        "if not all_rules_df.empty:\n",
        "    avg_support_all_clusters = all_rules_df[\"support\"].mean()\n",
        "    avg_confidence_all_clusters = all_rules_df[\"confidence\"].mean()\n",
        "    avg_lift_all_clusters = all_rules_df[\"lift\"].mean()\n",
        "else:\n",
        "    avg_support_all_clusters = avg_confidence_all_clusters = avg_lift_all_clusters = 0\n",
        "\n",
        "# Add all clusters combined metrics to overall metrics\n",
        "overall_metrics['All Clusters'] = [avg_support_all_clusters, avg_confidence_all_clusters, avg_lift_all_clusters]\n",
        "\n",
        "# Calculate the metrics for the original (baseline) rules\n",
        "original_rules_df = original_rules  # Assuming you have the baseline rules in 'original_rules'\n",
        "if not original_rules_df.empty:\n",
        "    avg_support_original = original_rules_df[\"support\"].mean()\n",
        "    avg_confidence_original = original_rules_df[\"confidence\"].mean()\n",
        "    avg_lift_original = original_rules_df[\"lift\"].mean()\n",
        "else:\n",
        "    avg_support_original = avg_confidence_original = avg_lift_original = 0\n",
        "\n",
        "# Add original rules metrics to overall metrics\n",
        "overall_metrics['Original Rules'] = [avg_support_original, avg_confidence_original, avg_lift_original]\n",
        "\n",
        "# Convert cluster metrics list into a DataFrame for easier plotting\n",
        "cluster_metrics_df = pd.DataFrame(cluster_metrics_list)\n",
        "\n",
        "# Prepare the data for plotting each metric separately\n",
        "metrics = ['Avg Support', 'Avg Confidence', 'Avg Lift']\n",
        "overall_values = {\n",
        "    'All Clusters': overall_metrics['All Clusters'],\n",
        "    'Original Rules': overall_metrics['Original Rules']\n",
        "}\n",
        "\n",
        "# Create individual plots for each metric (Support, Confidence, Lift)\n",
        "for metric in metrics:\n",
        "    fig, ax = plt.subplots(figsize=(12, 6))\n",
        "\n",
        "    # Plot the metrics for each cluster\n",
        "    sns.barplot(x='Cluster', y=metric, data=cluster_metrics_df, color='lightgreen', label=f'{metric} per Cluster', ax=ax)\n",
        "\n",
        "    # Plot the overall metrics (all clusters and original rules)\n",
        "    ax.axhline(y=overall_values['All Clusters'][metrics.index(metric)], color='blue', linestyle='--', label=f'{metric} (All Clusters)')\n",
        "    ax.axhline(y=overall_values['Original Rules'][metrics.index(metric)], color='darkblue', linestyle=':', label=f'{metric} (Original Rules)')\n",
        "\n",
        "    # Add labels and title\n",
        "    ax.set_title(f'{metric} Comparison for Clusters and Baseline Rules', fontsize=16)\n",
        "    ax.set_xlabel('Cluster', fontsize=12)\n",
        "    ax.set_ylabel(f'{metric} Value', fontsize=12)\n",
        "    ax.legend(title='Metric Type')\n",
        "\n",
        "    # Show the plot\n",
        "    plt.tight_layout()\n",
        "    plt.show()\n"
      ],
      "metadata": {
        "id": "n8FgBhz0rnAx"
      },
      "execution_count": null,
      "outputs": []
    },
    {
      "cell_type": "code",
      "source": [],
      "metadata": {
        "id": "z0pWsRm5vapD"
      },
      "execution_count": null,
      "outputs": []
    },
    {
      "cell_type": "markdown",
      "source": [],
      "metadata": {
        "id": "yS_Pq9QcdKTy"
      }
    }
  ],
  "metadata": {
    "language_info": {
      "name": "python"
    },
    "colab": {
      "provenance": []
    },
    "kernelspec": {
      "name": "python3",
      "display_name": "Python 3"
    }
  },
  "nbformat": 4,
  "nbformat_minor": 0
}