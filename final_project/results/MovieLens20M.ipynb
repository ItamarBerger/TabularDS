{
  "cells": [
    {
      "cell_type": "markdown",
      "metadata": {
        "id": "w1Zi55XNPIAA"
      },
      "source": [
        "# Approach 1 (BaseLine) - Classic  Apriori"
      ]
    },
    {
      "cell_type": "markdown",
      "metadata": {
        "id": "zpZPos2kPIAC"
      },
      "source": [
        "## Thresholds"
      ]
    },
    {
      "cell_type": "markdown",
      "metadata": {
        "id": "jTflyWmlPIAC"
      },
      "source": [
        "\n",
        "|    |   min_support  |   min_lift   |\n",
        "|---:|-----------------------:|-----------------------:|\n",
        "|  |                0.18 |                1.0     |  **bold text**            "
      ]
    },
    {
      "cell_type": "markdown",
      "metadata": {
        "id": "wAWPpOg_PIAC"
      },
      "source": [
        "## Results"
      ]
    },
    {
      "cell_type": "markdown",
      "source": [
        "number of rules: **3176**\n",
        "\n",
        "|    |   Avg  |   Min  |   Max  |\n",
        "|---:|-----------------------:|-----------------------:|-----------------------:|\n",
        "| **Support**  |               0.200921 |               0.18     |               0.3542   |\n",
        "|  **Confidence** |               0.625521 |               0.360564 |               0.956668 |\n",
        "| **Lift**  |               1.87072  |               1.16647  |               3.71348  |"
      ],
      "metadata": {
        "id": "bZw1rT28POAA"
      }
    },
    {
      "cell_type": "markdown",
      "metadata": {
        "id": "MVusYDg-PIAD"
      },
      "source": [
        "# Approach 2 (Our Solution) - Clustering\n",
        "### Cluster transactions (users in this case) based on users behaviour,\n",
        "### and then apply Apriori in each cluster"
      ]
    },
    {
      "cell_type": "code",
      "source": [],
      "metadata": {
        "id": "HcRfB8q-Sg69"
      },
      "execution_count": null,
      "outputs": []
    },
    {
      "cell_type": "markdown",
      "metadata": {
        "id": "xjKum-xqPIAD"
      },
      "source": [
        "## Tresholds and constants\n",
        "\n",
        "min_support -  this is the min **local** support. Namely, the support of a rule within a specific cluster.\n",
        "\n",
        "min_lift - again, it's a local lift.\n",
        "\n",
        "number of clusters (k)  -  we chose k (#clusters) based on the elbow method"
      ]
    },
    {
      "cell_type": "markdown",
      "source": [
        "|    |   min_support (local)  |   min_lift (local)  |    number of clusters        |\n",
        "|---:|-----------------------:|--------------------:|-----------------:|\n",
        "|  |     0.5                  |       1.0           |          50      |**bold text**    "
      ],
      "metadata": {
        "id": "EmSDYVuoVWag"
      }
    },
    {
      "cell_type": "markdown",
      "metadata": {
        "id": "x_wHknpEPIAD"
      },
      "source": [
        "## Clusters Distribution\n",
        "Below are the clusters with size > 1% (min threshold we define for rules mining in a cluster)."
      ]
    },
    {
      "cell_type": "markdown",
      "source": [],
      "metadata": {
        "id": "hrh2JT68SyOx"
      }
    },
    {
      "cell_type": "code",
      "execution_count": null,
      "metadata": {
        "id": "ppwiScnU03tS"
      },
      "outputs": [],
      "source": []
    },
    {
      "cell_type": "markdown",
      "source": [],
      "metadata": {
        "id": "m7EhP237StSr"
      }
    },
    {
      "cell_type": "markdown",
      "metadata": {
        "id": "Bj4HNAB0PIAD"
      },
      "source": [
        "## Results"
      ]
    },
    {
      "cell_type": "markdown",
      "metadata": {
        "id": "9p2Mad4kPIAD"
      },
      "source": [
        "number of distinct rules is: 9484\n",
        "Support average: 0.19\n",
        "Confidence average: 0.6255\n",
        "Lift average: 1.8707\n"
      ]
    },
    {
      "cell_type": "markdown",
      "metadata": {
        "id": "vE4Rwbs6PIAE"
      },
      "source": [
        "# Comparison between the 2 Approaches"
      ]
    },
    {
      "cell_type": "markdown",
      "metadata": {
        "id": "i5XbiJv4PIAE"
      },
      "source": [
        "## Baseline Approach\n",
        "\n",
        "|   Metric  |   Avg  |   Min  |   Max  |\n",
        "|---:|-----------------------:|-----------------------:|-----------------------:|\n",
        "|  Support   |               0.200921 |               0.18     |               0.3542   |\n",
        "|  Confidence   |               0.625521 |               0.3605 |               0.9566 |\n",
        "|  Lift   |               1.8707  |               1.1664  |        3.7134   |\n",
        "\n",
        "\n",
        "\n",
        "## Our Solution\n",
        "\n",
        "\n",
        "|    Metric     |   Avg |   Min  |   Max  |\n",
        "|:-----------|---------------------:|---------------------:|---------------------:|\n",
        "|  Support    |             0.1965 |             0.0354   |             0.34865  |\n",
        "|  Confidence |             0.6443 |             0.1025 |             0.981992 |\n",
        "|  Lift       |             2.3092  |             1.2140  |             7.6053  |"
      ]
    }
  ],
  "metadata": {
    "language_info": {
      "name": "python"
    },
    "colab": {
      "provenance": []
    },
    "kernelspec": {
      "name": "python3",
      "display_name": "Python 3"
    }
  },
  "nbformat": 4,
  "nbformat_minor": 0
}